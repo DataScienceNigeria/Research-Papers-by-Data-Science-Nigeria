{
  "nbformat": 4,
  "nbformat_minor": 0,
  "metadata": {
    "colab": {
      "name": "How to update English VADER Lexicon with Nigerian Pidgin Sentiments.ipynb",
      "provenance": []
    },
    "kernelspec": {
      "name": "python3",
      "display_name": "Python 3"
    }
  },
  "cells": [
    {
      "cell_type": "markdown",
      "metadata": {
        "id": "xADUjbW9SDsh",
        "colab_type": "text"
      },
      "source": [
        "####This Notebook shows how to update the Standard VADER English Lexicon with Nigerian Pidgin Sentiment and Scores. This Lexicon update is to improve the [VADER](https://github.com/cjhutto/vaderSentiment) Sentiment Scoring in texts that Contain Nigerian Pidgin English. \n",
        "####A total of 300 Nigerian Pidgin English Sentiments and Score will be updated. These 300 words are words in the original English [VADER](https://github.com/cjhutto/vaderSentiment/blob/master/vaderSentiment/vader_lexicon.txt) Lexicon that could be translated to 'one word' and not a 'phrase' in Nigerian Pidgin\n",
        "####Note:This Method is a general method to update to update lexicons with VADER not specific for Nigerian Pidgin Sentiments and Scores."
      ]
    },
    {
      "cell_type": "code",
      "metadata": {
        "id": "O9pZYe_0hPCO",
        "colab_type": "code",
        "colab": {}
      },
      "source": [
        "%%capture\n",
        "!pip install vadersentiment\n",
        "import pandas as pd\n",
        "import vaderSentiment\n",
        "from vaderSentiment.vaderSentiment import SentimentIntensityAnalyzer"
      ],
      "execution_count": 0,
      "outputs": []
    },
    {
      "cell_type": "code",
      "metadata": {
        "id": "Szd-3PMARwII",
        "colab_type": "code",
        "colab": {
          "base_uri": "https://localhost:8080/",
          "height": 216
        },
        "outputId": "0cbcc05c-c146-4500-fabc-9c43a6274549"
      },
      "source": [
        "#Download the Nigerian Pidgin English Sentiment and Scores Dataset to Notebook using 'wget' or Directly to local from the same link\n",
        "!wget https://raw.githubusercontent.com/DataScienceNigeria/research-papers/master/Semantic%20Enrichment%20of%20Nigerian%20Pidgin%20English%20for%20Contextual%20Sentiment%20Classification/300_Nigerian_Pidgin_Sentiments_and_Score_for_VADER.csv"
      ],
      "execution_count": 1,
      "outputs": [
        {
          "output_type": "stream",
          "text": [
            "--2020-03-26 15:40:58--  https://raw.githubusercontent.com/DataScienceNigeria/research-papers/master/Semantic%20Enrichment%20of%20Nigerian%20Pidgin%20English%20for%20Contextual%20Sentiment%20Classification/300_Nigerian_Pidgin_Sentiments_and_Score_for_VADER.csv\n",
            "Resolving raw.githubusercontent.com (raw.githubusercontent.com)... 151.101.0.133, 151.101.64.133, 151.101.128.133, ...\n",
            "Connecting to raw.githubusercontent.com (raw.githubusercontent.com)|151.101.0.133|:443... connected.\n",
            "HTTP request sent, awaiting response... 200 OK\n",
            "Length: 3658 (3.6K) [text/plain]\n",
            "Saving to: ‘300_Nigerian_Pidgin_Sentiments_and_Score_for_VADER.csv’\n",
            "\n",
            "\r          300_Niger   0%[                    ]       0  --.-KB/s               \r300_Nigerian_Pidgin 100%[===================>]   3.57K  --.-KB/s    in 0s      \n",
            "\n",
            "2020-03-26 15:40:58 (108 MB/s) - ‘300_Nigerian_Pidgin_Sentiments_and_Score_for_VADER.csv’ saved [3658/3658]\n",
            "\n"
          ],
          "name": "stdout"
        }
      ]
    },
    {
      "cell_type": "code",
      "metadata": {
        "id": "QZfpU4Eog8Vx",
        "colab_type": "code",
        "colab": {}
      },
      "source": [
        "Nigerian_Pidgin_Sentiments_and_Score = pd.read_csv('300_Nigerian_Pidgin_Sentiments_and_Score_for_VADER.csv')  # Read Nigerian Pidgin Sentiments and Scores into a Pandas Dataframe\n",
        "Dictionary_of_300_Nigerian_Pidgin_Sentiments_and_Score = dict(zip(Nigerian_Pidgin_Sentiments_and_Score['Token'], Nigerian_Pidgin_Sentiments_and_Score['Score'])) #Make a Dictionary of Words and their Sentiment Scores"
      ],
      "execution_count": 0,
      "outputs": []
    },
    {
      "cell_type": "code",
      "metadata": {
        "id": "DZfkSvwmilIX",
        "colab_type": "code",
        "colab": {}
      },
      "source": [
        "Analyzer = SentimentIntensityAnalyzer()                                          #Instantiate Sentiment Intensity Analyzer\n",
        "Analyzer.lexicon.update(Dictionary_of_300_Nigerian_Pidgin_Sentiments_and_Score)  #Update the Original English VADER Lexicon with Nigerian Pidgin English Sentiment and Scores "
      ],
      "execution_count": 0,
      "outputs": []
    },
    {
      "cell_type": "markdown",
      "metadata": {
        "id": "qAnVY-43pCLs",
        "colab_type": "text"
      },
      "source": [
        "####Now that the Analyser has been updated it can be used score the polarity of texts containing Nigerian Pidgin English Better than the lexiscon that isn't updated. \n",
        "####E.g \n",
        "####pidgin_dataframe['vaderScoreUpdated'] = pidgin_dataframe['Clean_Content'].apply(lambda x: Analyzer.polarity_scores(x)['compound'])"
      ]
    }
  ]
}