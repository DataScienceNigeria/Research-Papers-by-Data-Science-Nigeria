{
  "nbformat": 4,
  "nbformat_minor": 0,
  "metadata": {
    "colab": {
      "name": "Sample code -Zero shot Classification for EndSARS tweets.ipynb",
      "provenance": []
    },
    "kernelspec": {
      "name": "python3",
      "display_name": "Python 3"
    },
    "language_info": {
      "name": "python"
    }
  },
  "cells": [
    {
      "cell_type": "code",
      "metadata": {
        "colab": {
          "base_uri": "https://localhost:8080/"
        },
        "id": "CVQiqkxYf2Fv",
        "outputId": "978a7ad6-576a-4f6a-d7d3-5328346f609e"
      },
      "source": [
        "from google.colab import drive#\n",
        "drive.mount('/content/drive')"
      ],
      "execution_count": null,
      "outputs": [
        {
          "output_type": "stream",
          "name": "stdout",
          "text": [
            "Mounted at /content/drive\n"
          ]
        }
      ]
    },
    {
      "cell_type": "code",
      "metadata": {
        "id": "Ef74rMwS3_g-"
      },
      "source": [
        "%%capture\n",
        "!pip install transformers\n",
        "from transformers import pipeline"
      ],
      "execution_count": null,
      "outputs": []
    },
    {
      "cell_type": "code",
      "metadata": {
        "id": "88y960t4BFiP"
      },
      "source": [
        "from tqdm import tqdm"
      ],
      "execution_count": null,
      "outputs": []
    },
    {
      "cell_type": "code",
      "metadata": {
        "id": "QIsdokzUOcM5"
      },
      "source": [
        "df = pd.read_csv('Your_data.csv')\n",
        "classifier = pipeline(\"zero-shot-classification\",device=0) #download the pretrained model - sr device = 0 to use GPU\n",
        "candidate_labels = ['Media coverage','Activism','Police brutality events','No response from public figures','Questions about moving forward/past','Lekki Massacre','Irrelevant']"
      ],
      "execution_count": null,
      "outputs": []
    },
    {
      "cell_type": "code",
      "metadata": {
        "colab": {
          "base_uri": "https://localhost:8080/"
        },
        "id": "W8zLiH8e8Joi",
        "outputId": "2f36dd1b-0d06-4449-f4a1-aec445092c90"
      },
      "source": [
        "predictedCategories = []\n",
        "#categories_scores = []\n",
        "tweet_scores = []\n",
        "for i in tqdm(range(len(df))):\n",
        "    text = df.iloc[i,]['cleaned_tweets']\n",
        "    res = classifier(text, candidate_labels, multi_class=True) #setting multi-class as True gives multilabel \n",
        "    labels = res['labels'] \n",
        "    scores = res['scores'] #extracting the scores associated with the labels\n",
        "    res_dict = {label : score for label,score in zip(labels, scores)}\n",
        "    sorted_dict = dict(sorted(res_dict.items(), key=lambda x:x[0],reverse = False)) #sorting the dictionary of labels in alphabetical order based on their score\n",
        "    t_score  = []\n",
        "    #categories_score = []\n",
        "    for i, (k,v) in enumerate(sorted_dict.items()):\n",
        "      #categories_score.append(k)\n",
        "      t_score.append(v)\n",
        "    tweet_scores.append(t_score) #return all scores with categories sorted alphabetical order\n",
        "   # categories_scores.append(categories_score)\n",
        "    categories  = []\n",
        "    sorted_dict_ = dict(sorted(res_dict.items(), key=lambda x:x[1],reverse = True))\n",
        "    for i, (k,v) in enumerate(sorted_dict_.items()):\n",
        "      if(i > 2): #return categories with only the best 3 predictions\n",
        "        break\n",
        "      else:\n",
        "        categories.append(k)\n",
        "    predictedCategories.append(categories)"
      ],
      "execution_count": null,
      "outputs": [
        {
          "output_type": "stream",
          "name": "stderr",
          "text": [
            "  4%|▍         | 10/245 [00:01<00:37,  6.26it/s]/usr/local/lib/python3.7/dist-packages/transformers/pipelines/base.py:901: UserWarning: You seem to be using the pipelines sequentially on GPU. In order to maximize efficiency please use a dataset\n",
            "  UserWarning,\n",
            "100%|██████████| 245/245 [00:40<00:00,  6.01it/s]\n"
          ]
        }
      ]
    },
    {
      "cell_type": "code",
      "metadata": {
        "colab": {
          "base_uri": "https://localhost:8080/"
        },
        "id": "ofuMb_QbWY4T",
        "outputId": "e625b2ef-ebe2-4b48-c012-79d91876ee9e"
      },
      "source": [
        "#Put it all together\n",
        "tweet_scores_df = pd.DataFrame(tweet_scores, columns=['Activism','Lekki Massacre','Media coverage','No response from public figures','Police Brutality','Questions about moving forward/past','Irrelevant'])\n",
        "tweet_scores_df"
      ],
      "execution_count": null,
      "outputs": [
        {
          "output_type": "execute_result",
          "data": {
            "text/html": [
              "<div>\n",
              "<style scoped>\n",
              "    .dataframe tbody tr th:only-of-type {\n",
              "        vertical-align: middle;\n",
              "    }\n",
              "\n",
              "    .dataframe tbody tr th {\n",
              "        vertical-align: top;\n",
              "    }\n",
              "\n",
              "    .dataframe thead th {\n",
              "        text-align: right;\n",
              "    }\n",
              "</style>\n",
              "<table border=\"1\" class=\"dataframe\">\n",
              "  <thead>\n",
              "    <tr style=\"text-align: right;\">\n",
              "      <th></th>\n",
              "      <th>Activism</th>\n",
              "      <th>Lekki Massacre</th>\n",
              "      <th>Media coverage</th>\n",
              "      <th>No response from public figures</th>\n",
              "      <th>Police Brutality</th>\n",
              "      <th>Questions about moving forward/past</th>\n",
              "      <th>Irrelevant</th>\n",
              "    </tr>\n",
              "  </thead>\n",
              "  <tbody>\n",
              "    <tr>\n",
              "      <th>0</th>\n",
              "      <td>0.754780</td>\n",
              "      <td>0.000148</td>\n",
              "      <td>0.012566</td>\n",
              "      <td>0.122678</td>\n",
              "      <td>0.000159</td>\n",
              "      <td>0.039525</td>\n",
              "      <td>0.396220</td>\n",
              "    </tr>\n",
              "    <tr>\n",
              "      <th>1</th>\n",
              "      <td>0.025495</td>\n",
              "      <td>0.001117</td>\n",
              "      <td>0.048469</td>\n",
              "      <td>0.018139</td>\n",
              "      <td>0.003023</td>\n",
              "      <td>0.047655</td>\n",
              "      <td>0.189236</td>\n",
              "    </tr>\n",
              "    <tr>\n",
              "      <th>2</th>\n",
              "      <td>0.014667</td>\n",
              "      <td>0.003151</td>\n",
              "      <td>0.006352</td>\n",
              "      <td>0.035611</td>\n",
              "      <td>0.001678</td>\n",
              "      <td>0.000117</td>\n",
              "      <td>0.949163</td>\n",
              "    </tr>\n",
              "    <tr>\n",
              "      <th>3</th>\n",
              "      <td>0.011175</td>\n",
              "      <td>0.000397</td>\n",
              "      <td>0.013504</td>\n",
              "      <td>0.004388</td>\n",
              "      <td>0.000089</td>\n",
              "      <td>0.000939</td>\n",
              "      <td>0.247348</td>\n",
              "    </tr>\n",
              "    <tr>\n",
              "      <th>4</th>\n",
              "      <td>0.289728</td>\n",
              "      <td>0.000376</td>\n",
              "      <td>0.034569</td>\n",
              "      <td>0.339679</td>\n",
              "      <td>0.000332</td>\n",
              "      <td>0.089706</td>\n",
              "      <td>0.334366</td>\n",
              "    </tr>\n",
              "    <tr>\n",
              "      <th>...</th>\n",
              "      <td>...</td>\n",
              "      <td>...</td>\n",
              "      <td>...</td>\n",
              "      <td>...</td>\n",
              "      <td>...</td>\n",
              "      <td>...</td>\n",
              "      <td>...</td>\n",
              "    </tr>\n",
              "    <tr>\n",
              "      <th>240</th>\n",
              "      <td>0.121981</td>\n",
              "      <td>0.000145</td>\n",
              "      <td>0.004028</td>\n",
              "      <td>0.012895</td>\n",
              "      <td>0.000226</td>\n",
              "      <td>0.000634</td>\n",
              "      <td>0.660356</td>\n",
              "    </tr>\n",
              "    <tr>\n",
              "      <th>241</th>\n",
              "      <td>0.959354</td>\n",
              "      <td>0.000257</td>\n",
              "      <td>0.034022</td>\n",
              "      <td>0.039049</td>\n",
              "      <td>0.000395</td>\n",
              "      <td>0.214194</td>\n",
              "      <td>0.383004</td>\n",
              "    </tr>\n",
              "    <tr>\n",
              "      <th>242</th>\n",
              "      <td>0.249530</td>\n",
              "      <td>0.000489</td>\n",
              "      <td>0.011538</td>\n",
              "      <td>0.249910</td>\n",
              "      <td>0.019596</td>\n",
              "      <td>0.928222</td>\n",
              "      <td>0.675362</td>\n",
              "    </tr>\n",
              "    <tr>\n",
              "      <th>243</th>\n",
              "      <td>0.145861</td>\n",
              "      <td>0.000235</td>\n",
              "      <td>0.000386</td>\n",
              "      <td>0.061604</td>\n",
              "      <td>0.000102</td>\n",
              "      <td>0.578648</td>\n",
              "      <td>0.370735</td>\n",
              "    </tr>\n",
              "    <tr>\n",
              "      <th>244</th>\n",
              "      <td>0.368089</td>\n",
              "      <td>0.001047</td>\n",
              "      <td>0.037812</td>\n",
              "      <td>0.184907</td>\n",
              "      <td>0.000404</td>\n",
              "      <td>0.064961</td>\n",
              "      <td>0.313679</td>\n",
              "    </tr>\n",
              "  </tbody>\n",
              "</table>\n",
              "<p>245 rows × 7 columns</p>\n",
              "</div>"
            ],
            "text/plain": [
              "     Activism  Lekki Massacre  ...  Questions about moving forward/past  Irrelevant\n",
              "0    0.754780        0.000148  ...                             0.039525    0.396220\n",
              "1    0.025495        0.001117  ...                             0.047655    0.189236\n",
              "2    0.014667        0.003151  ...                             0.000117    0.949163\n",
              "3    0.011175        0.000397  ...                             0.000939    0.247348\n",
              "4    0.289728        0.000376  ...                             0.089706    0.334366\n",
              "..        ...             ...  ...                                  ...         ...\n",
              "240  0.121981        0.000145  ...                             0.000634    0.660356\n",
              "241  0.959354        0.000257  ...                             0.214194    0.383004\n",
              "242  0.249530        0.000489  ...                             0.928222    0.675362\n",
              "243  0.145861        0.000235  ...                             0.578648    0.370735\n",
              "244  0.368089        0.001047  ...                             0.064961    0.313679\n",
              "\n",
              "[245 rows x 7 columns]"
            ]
          },
          "metadata": {},
          "execution_count": 221
        }
      ]
    },
    {
      "cell_type": "code",
      "metadata": {
        "colab": {
          "base_uri": "https://localhost:8080/"
        },
        "id": "LTrwYDhVcWss",
        "outputId": "14edf353-b545-4c35-f30b-7119ec49654d"
      },
      "source": [
        "#Select the  top-3 most confident predictions\n",
        "tweet_label_df = pd.DataFrame(predictedCategories, columns=['Label 1','Label 2','Label 3'])\n",
        "tweet_label_df"
      ],
      "execution_count": null,
      "outputs": [
        {
          "output_type": "execute_result",
          "data": {
            "text/html": [
              "<div>\n",
              "<style scoped>\n",
              "    .dataframe tbody tr th:only-of-type {\n",
              "        vertical-align: middle;\n",
              "    }\n",
              "\n",
              "    .dataframe tbody tr th {\n",
              "        vertical-align: top;\n",
              "    }\n",
              "\n",
              "    .dataframe thead th {\n",
              "        text-align: right;\n",
              "    }\n",
              "</style>\n",
              "<table border=\"1\" class=\"dataframe\">\n",
              "  <thead>\n",
              "    <tr style=\"text-align: right;\">\n",
              "      <th></th>\n",
              "      <th>Label 1</th>\n",
              "      <th>Label 2</th>\n",
              "      <th>Label 3</th>\n",
              "    </tr>\n",
              "  </thead>\n",
              "  <tbody>\n",
              "    <tr>\n",
              "      <th>0</th>\n",
              "      <td>Activism</td>\n",
              "      <td>Questions about moving forward/past</td>\n",
              "      <td>Media coverage</td>\n",
              "    </tr>\n",
              "    <tr>\n",
              "      <th>1</th>\n",
              "      <td>Questions about moving forward/past</td>\n",
              "      <td>Lekki Massacre</td>\n",
              "      <td>Police brutality events</td>\n",
              "    </tr>\n",
              "    <tr>\n",
              "      <th>2</th>\n",
              "      <td>Questions about moving forward/past</td>\n",
              "      <td>Media coverage</td>\n",
              "      <td>Activism</td>\n",
              "    </tr>\n",
              "    <tr>\n",
              "      <th>3</th>\n",
              "      <td>Questions about moving forward/past</td>\n",
              "      <td>Lekki Massacre</td>\n",
              "      <td>Activism</td>\n",
              "    </tr>\n",
              "    <tr>\n",
              "      <th>4</th>\n",
              "      <td>Media coverage</td>\n",
              "      <td>Questions about moving forward/past</td>\n",
              "      <td>Activism</td>\n",
              "    </tr>\n",
              "    <tr>\n",
              "      <th>...</th>\n",
              "      <td>...</td>\n",
              "      <td>...</td>\n",
              "      <td>...</td>\n",
              "    </tr>\n",
              "    <tr>\n",
              "      <th>240</th>\n",
              "      <td>Questions about moving forward/past</td>\n",
              "      <td>Activism</td>\n",
              "      <td>Media coverage</td>\n",
              "    </tr>\n",
              "    <tr>\n",
              "      <th>241</th>\n",
              "      <td>Activism</td>\n",
              "      <td>Questions about moving forward/past</td>\n",
              "      <td>Police brutality events</td>\n",
              "    </tr>\n",
              "    <tr>\n",
              "      <th>242</th>\n",
              "      <td>Police brutality events</td>\n",
              "      <td>Questions about moving forward/past</td>\n",
              "      <td>Media coverage</td>\n",
              "    </tr>\n",
              "    <tr>\n",
              "      <th>243</th>\n",
              "      <td>Police brutality events</td>\n",
              "      <td>Questions about moving forward/past</td>\n",
              "      <td>Activism</td>\n",
              "    </tr>\n",
              "    <tr>\n",
              "      <th>244</th>\n",
              "      <td>Activism</td>\n",
              "      <td>Questions about moving forward/past</td>\n",
              "      <td>Media coverage</td>\n",
              "    </tr>\n",
              "  </tbody>\n",
              "</table>\n",
              "<p>245 rows × 3 columns</p>\n",
              "</div>"
            ],
            "text/plain": [
              "                                 Label 1  ...                  Label 3\n",
              "0                               Activism  ...           Media coverage\n",
              "1    Questions about moving forward/past  ...  Police brutality events\n",
              "2    Questions about moving forward/past  ...                 Activism\n",
              "3    Questions about moving forward/past  ...                 Activism\n",
              "4                         Media coverage  ...                 Activism\n",
              "..                                   ...  ...                      ...\n",
              "240  Questions about moving forward/past  ...           Media coverage\n",
              "241                             Activism  ...  Police brutality events\n",
              "242              Police brutality events  ...           Media coverage\n",
              "243              Police brutality events  ...                 Activism\n",
              "244                             Activism  ...           Media coverage\n",
              "\n",
              "[245 rows x 3 columns]"
            ]
          },
          "metadata": {},
          "execution_count": 222
        }
      ]
    },
    {
      "cell_type": "code",
      "metadata": {
        "id": "EEcbxYjFem28"
      },
      "source": [
        ""
      ],
      "execution_count": null,
      "outputs": []
    },
    {
      "cell_type": "code",
      "metadata": {
        "colab": {
          "base_uri": "https://localhost:8080/"
        },
        "id": "_8mw6arJfKrh",
        "outputId": "f828ee33-8181-4364-9b58-f1cf5587e836"
      },
      "source": [
        "#Combine all labels\n",
        "tweet_label_df['Predicted label'] = tweet_label_df[['Label 1','Label 2','Label 3']].apply(lambda x: ', '.join(x[x.notnull()]), axis = 1)\n",
        "y_ZeroShot = tweet_label_df['Predicted label']\n",
        "y_ZeroShot_multilabel = vectorizer.transform(y_ZeroShot)\n",
        "y_ZeroShot_multilabel"
      ],
      "execution_count": null,
      "outputs": [
        {
          "output_type": "execute_result",
          "data": {
            "text/plain": [
              "<245x7 sparse matrix of type '<class 'numpy.int64'>'\n",
              "\twith 735 stored elements in Compressed Sparse Row format>"
            ]
          },
          "metadata": {},
          "execution_count": 229
        }
      ]
    },
    {
      "cell_type": "code",
      "metadata": {
        "colab": {
          "base_uri": "https://localhost:8080/"
        },
        "id": "fLbQsq8MfKri",
        "outputId": "06b8d5a7-2389-4194-aa83-6b17d7a5dc87"
      },
      "source": [
        "print(\"Accuracy :\",metrics.accuracy_score(y_test_multilabel, y_ZeroShot_multilabel))\n",
        "print(\"Hamming loss \",metrics.hamming_loss(y_test_multilabel,y_ZeroShot_multilabel))\n",
        "\n",
        "precision = precision_score(y_test_multilabel, y_ZeroShot_multilabel, average='micro')\n",
        "recall = recall_score(y_test_multilabel, y_ZeroShot_multilabel, average='micro')\n",
        "f1 = f1_score(y_test_multilabel, y_ZeroShot_multilabel, average='micro')\n",
        " \n",
        "print(\"\\nMicro-average quality numbers\")\n",
        "print(\"Precision: {:.4f}, Recall: {:.4f}, F1-measure: {:.4f}\".format(precision, recall, f1))\n",
        "\n",
        "precision = precision_score(y_test_multilabel, y_ZeroShot_multilabel, average='macro')\n",
        "recall = recall_score(y_test_multilabel, y_ZeroShot_multilabel, average='macro')\n",
        "f1 = f1_score(y_test_multilabel, y_ZeroShot_multilabel, average='macro')\n",
        " \n",
        "print(\"\\nMacro-average quality numbers\")\n",
        "print(\"Precision: {:.4f}, Recall: {:.4f}, F1-measure: {:.4f}\".format(precision, recall, f1))\n",
        "\n",
        "print(\"\\nClassification Report\")\n",
        "print (metrics.classification_report(y_test_multilabel, y_ZeroShot_multilabel))\n",
        "# print(\"Time taken to run this cell :\", datetime.now() - start)"
      ],
      "execution_count": null,
      "outputs": [
        {
          "output_type": "stream",
          "name": "stdout",
          "text": [
            "Accuracy : 0.02040816326530612\n",
            "Hamming loss  0.3434402332361516\n",
            "\n",
            "Micro-average quality numbers\n",
            "Precision: 0.3184, Recall: 0.7267, F1-measure: 0.4428\n",
            "\n",
            "Macro-average quality numbers\n",
            "Precision: 0.3698, Recall: 0.6607, F1-measure: 0.3492\n",
            "\n",
            "Classification Report\n",
            "              precision    recall  f1-score   support\n",
            "\n",
            "           0       0.68      0.92      0.78       154\n",
            "           1       0.80      0.08      0.14        53\n",
            "           2       0.30      0.76      0.43        21\n",
            "           3       0.12      0.89      0.21        18\n",
            "           4       0.31      0.25      0.28        16\n",
            "           5       0.25      0.76      0.38        29\n",
            "           6       0.13      0.97      0.22        31\n",
            "\n",
            "   micro avg       0.32      0.73      0.44       322\n",
            "   macro avg       0.37      0.66      0.35       322\n",
            "weighted avg       0.53      0.73      0.51       322\n",
            " samples avg       0.32      0.70      0.42       322\n",
            "\n"
          ]
        }
      ]
    },
    {
      "cell_type": "code",
      "metadata": {
        "id": "yHzKj5tOmoqt"
      },
      "source": [
        "tweet_data_plus_labels  = {'tweet_id':test_data['tweet_id'].to_list(),'Original_Tweets':test_data['tweet'].to_list(),'Cleaned_Tweets':test_data['cleaned_tweets'].to_list(),'Human_label':test_data['HumanLabel'].to_list(), 'Zero_shot_label':tweet_label_df['Predicted label'].to_list()}\n",
        "Zero_shot_df = pd.DataFrame(tweet_data_plus_labels,pd.set_option('display.max_colwidth', -1))\n",
        "Zero_shot_df.head(2)"
      ],
      "execution_count": null,
      "outputs": []
    },
    {
      "cell_type": "code",
      "metadata": {
        "colab": {
          "base_uri": "https://localhost:8080/",
          "height": 423
        },
        "id": "gi_e2IbXIV0w",
        "outputId": "58471fbc-e6d0-4df0-fb8f-600a74471230"
      },
      "source": [
        "top3_USE"
      ],
      "execution_count": null,
      "outputs": [
        {
          "output_type": "execute_result",
          "data": {
            "text/html": [
              "<div>\n",
              "<style scoped>\n",
              "    .dataframe tbody tr th:only-of-type {\n",
              "        vertical-align: middle;\n",
              "    }\n",
              "\n",
              "    .dataframe tbody tr th {\n",
              "        vertical-align: top;\n",
              "    }\n",
              "\n",
              "    .dataframe thead th {\n",
              "        text-align: right;\n",
              "    }\n",
              "</style>\n",
              "<table border=\"1\" class=\"dataframe\">\n",
              "  <thead>\n",
              "    <tr style=\"text-align: right;\">\n",
              "      <th></th>\n",
              "      <th>1st Max</th>\n",
              "      <th>2nd Max</th>\n",
              "      <th>3rd Max</th>\n",
              "    </tr>\n",
              "  </thead>\n",
              "  <tbody>\n",
              "    <tr>\n",
              "      <th>0</th>\n",
              "      <td>Activism</td>\n",
              "      <td>No Response from public figures</td>\n",
              "      <td>Questions about moving forward/past</td>\n",
              "    </tr>\n",
              "    <tr>\n",
              "      <th>1</th>\n",
              "      <td>No Response from public figures</td>\n",
              "      <td>Lekki Massacre</td>\n",
              "      <td>Irrelevant</td>\n",
              "    </tr>\n",
              "    <tr>\n",
              "      <th>2</th>\n",
              "      <td>Lekki Massacre</td>\n",
              "      <td>Activism</td>\n",
              "      <td>No Response from public figures</td>\n",
              "    </tr>\n",
              "    <tr>\n",
              "      <th>3</th>\n",
              "      <td>No Response from public figures</td>\n",
              "      <td>Police brutality events</td>\n",
              "      <td>Media coverage</td>\n",
              "    </tr>\n",
              "    <tr>\n",
              "      <th>4</th>\n",
              "      <td>Activism</td>\n",
              "      <td>Lekki Massacre</td>\n",
              "      <td>Questions about moving forward/past</td>\n",
              "    </tr>\n",
              "    <tr>\n",
              "      <th>...</th>\n",
              "      <td>...</td>\n",
              "      <td>...</td>\n",
              "      <td>...</td>\n",
              "    </tr>\n",
              "    <tr>\n",
              "      <th>240</th>\n",
              "      <td>No Response from public figures</td>\n",
              "      <td>Irrelevant</td>\n",
              "      <td>Police brutality events</td>\n",
              "    </tr>\n",
              "    <tr>\n",
              "      <th>241</th>\n",
              "      <td>Activism</td>\n",
              "      <td>Lekki Massacre</td>\n",
              "      <td>Media coverage</td>\n",
              "    </tr>\n",
              "    <tr>\n",
              "      <th>242</th>\n",
              "      <td>No Response from public figures</td>\n",
              "      <td>Irrelevant</td>\n",
              "      <td>Police brutality events</td>\n",
              "    </tr>\n",
              "    <tr>\n",
              "      <th>243</th>\n",
              "      <td>Media coverage</td>\n",
              "      <td>Lekki Massacre</td>\n",
              "      <td>Questions about moving forward/past</td>\n",
              "    </tr>\n",
              "    <tr>\n",
              "      <th>244</th>\n",
              "      <td>Activism</td>\n",
              "      <td>Irrelevant</td>\n",
              "      <td>No Response from public figures</td>\n",
              "    </tr>\n",
              "  </tbody>\n",
              "</table>\n",
              "<p>245 rows × 3 columns</p>\n",
              "</div>"
            ],
            "text/plain": [
              "                             1st Max  ...                              3rd Max\n",
              "0    Activism                         ...  Questions about moving forward/past\n",
              "1    No Response from public figures  ...  Irrelevant                         \n",
              "2    Lekki Massacre                   ...  No Response from public figures    \n",
              "3    No Response from public figures  ...  Media coverage                     \n",
              "4    Activism                         ...  Questions about moving forward/past\n",
              "..        ...                         ...                                  ...\n",
              "240  No Response from public figures  ...  Police brutality events            \n",
              "241  Activism                         ...  Media coverage                     \n",
              "242  No Response from public figures  ...  Police brutality events            \n",
              "243  Media coverage                   ...  Questions about moving forward/past\n",
              "244  Activism                         ...  No Response from public figures    \n",
              "\n",
              "[245 rows x 3 columns]"
            ]
          },
          "metadata": {},
          "execution_count": 236
        }
      ]
    }
  ]
}