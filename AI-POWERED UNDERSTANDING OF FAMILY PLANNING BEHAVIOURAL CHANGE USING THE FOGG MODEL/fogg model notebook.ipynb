{
  "cells": [
    {
      "cell_type": "code",
      "execution_count": null,
      "metadata": {
        "id": "2WHX5qGhm61Y"
      },
      "outputs": [],
      "source": [
        "from google.colab import drive\n",
        "drive.mount('/content/drive')"
      ]
    },
    {
      "cell_type": "markdown",
      "metadata": {
        "id": "qBil5jgaK4x5"
      },
      "source": [
        "Importing necessary libraries\n"
      ]
    },
    {
      "cell_type": "code",
      "execution_count": null,
      "metadata": {
        "id": "l8XiN5IZu50i"
      },
      "outputs": [],
      "source": [
        "pip install spacy==2.3.5"
      ]
    },
    {
      "cell_type": "code",
      "execution_count": null,
      "metadata": {
        "id": "erpY5WMFrerd"
      },
      "outputs": [],
      "source": [
        "import spacy\n",
        "print(spacy.__version__)"
      ]
    },
    {
      "cell_type": "code",
      "execution_count": null,
      "metadata": {
        "id": "Ckl6OtiXCi4F"
      },
      "outputs": [],
      "source": [
        "#importing the dependecies\n",
        "import json\n",
        "import spacy\n",
        "import pandas as pd\n",
        "import ast \n",
        "import json\n",
        "import spacy\n",
        "import random\n",
        "import logging\n",
        "import srsly\n",
        "from spacy.gold import docs_to_json, biluo_tags_from_offsets, spans_from_biluo_tags\n",
        "import os\n",
        "from __future__ import unicode_literals, print_function\n",
        "import plac\n",
        "import random\n",
        "from pathlib import Path\n",
        "from tqdm import tqdm\n",
        "from spacy.scorer import Scorer\n",
        "from spacy.gold import GoldParse\n"
      ]
    },
    {
      "cell_type": "markdown",
      "metadata": {
        "id": "Jr_iaDMhLXCk"
      },
      "source": [
        "import train and test data\n"
      ]
    },
    {
      "cell_type": "code",
      "execution_count": null,
      "metadata": {
        "id": "U2ziE4qhiR-N"
      },
      "outputs": [],
      "source": [
        "import os\n",
        " \n",
        "\n",
        "path = \"/content/drive/MyDrive/DKT/DKT_sample_data/DSN/Annotation /Train-files\"\n",
        "dir_list = os.listdir(path)\n",
        " \n",
        " \n",
        "\n",
        "# prints all files\n",
        "print(dir_list)"
      ]
    },
    {
      "cell_type": "code",
      "execution_count": null,
      "metadata": {
        "id": "-odShlyon6YQ"
      },
      "outputs": [],
      "source": [
        "files=[]\n",
        "for i in dir_list:\n",
        "  files.append(path+\"/\"+i)\n",
        "print(files)"
      ]
    },
    {
      "cell_type": "code",
      "execution_count": null,
      "metadata": {
        "id": "ITXxMDB_08Nt"
      },
      "outputs": [],
      "source": [
        "#reading annotated files \n",
        "Train_data2=[] \n",
        "for fname in files:\n",
        "  f=open(fname ,\"r\")\n",
        "  d=(f.read())\n",
        "  y=ast.literal_eval(d)\n",
        "  Train_data2.extend(y)\n",
        "\n",
        "print(Train_data2)"
      ]
    },
    {
      "cell_type": "code",
      "execution_count": null,
      "metadata": {
        "id": "Y3PBIQN_5l6E"
      },
      "outputs": [],
      "source": [
        "import os  #Test data\n",
        " \n",
        "\n",
        "path_test= \"/content/drive/MyDrive/DKT/DKT_sample_data/DSN/Annotation /Test\"\n",
        "dir_test= os.listdir(path_test)\n",
        " \n",
        "print(dir_test)\n",
        "# prints all files\n"
      ]
    },
    {
      "cell_type": "code",
      "execution_count": null,
      "metadata": {
        "id": "f-bd9nab5diY"
      },
      "outputs": [],
      "source": [
        "test_annot=[]\n",
        "for i in dir_test:\n",
        "  test_annot.append(path_test+ \"/\"+ i)\n",
        "print(test_annot)"
      ]
    },
    {
      "cell_type": "markdown",
      "metadata": {
        "id": "KqfOBBb2pt4T"
      },
      "source": [
        ""
      ]
    },
    {
      "cell_type": "code",
      "execution_count": null,
      "metadata": {
        "id": "SEERcbT4wx7L"
      },
      "outputs": [],
      "source": [
        "#reading annotated files \n",
        "Test_data=[] \n",
        "for fname in test_annot:\n",
        "  f=open(fname ,\"r\")\n",
        "  d=(f.read())\n",
        "  y=ast.literal_eval(d)\n",
        "  Test_data.extend(y)\n",
        "\n",
        "print(Test_data)\n"
      ]
    },
    {
      "cell_type": "markdown",
      "metadata": {
        "id": "qnfKgMEA5eU5"
      },
      "source": [
        "Data processing\n"
      ]
    },
    {
      "cell_type": "code",
      "execution_count": null,
      "metadata": {
        "id": "sUdG5xK45eFV"
      },
      "outputs": [],
      "source": [
        "## Training Data"
      ]
    },
    {
      "cell_type": "code",
      "execution_count": null,
      "metadata": {
        "id": "cxALo5DDpm65"
      },
      "outputs": [],
      "source": [
        "\n",
        "%cd /content/drive/MyDrive/DKT/DKT_sample_data/DSN/FOGG Model 4\n"
      ]
    },
    {
      "cell_type": "code",
      "execution_count": null,
      "metadata": {
        "id": "3G8Pf2zmqMas"
      },
      "outputs": [],
      "source": [
        "!pwd"
      ]
    },
    {
      "cell_type": "code",
      "execution_count": null,
      "metadata": {
        "id": "JC66Suw6zG4W"
      },
      "outputs": [],
      "source": [
        "!python -m spacy download en"
      ]
    },
    {
      "cell_type": "code",
      "execution_count": null,
      "metadata": {
        "id": "1Uuxu9AyL-Oc"
      },
      "outputs": [],
      "source": [
        "#covert annotated test data to json file \n",
        "nlp = spacy.load('en')\n",
        "docs = []\n",
        "for text, annot in Test_data:\n",
        "    doc = nlp(text)\n",
        "    tags = biluo_tags_from_offsets(doc, annot['entities'])\n",
        "    entities = spans_from_biluo_tags(doc, tags)\n",
        "    doc.ents = entities\n",
        "    docs.append(doc)\n",
        "srsly.write_json(\"spacy_format2.json\", [docs_to_json(docs)])"
      ]
    },
    {
      "cell_type": "code",
      "execution_count": null,
      "metadata": {
        "id": "7yW2JUWY4d_I"
      },
      "outputs": [],
      "source": [
        "#load pretrained spacy english model \n",
        "nlp = spacy.load('en')\n",
        "#covert annotated train data to json file\n",
        "docs = []\n",
        "for text, annot in Train_data2:\n",
        "    doc = nlp(text)\n",
        "    tags = biluo_tags_from_offsets(doc, annot['entities'])\n",
        "    entities = spans_from_biluo_tags(doc, tags)\n",
        "    doc.ents = entities\n",
        "    docs.append(doc)\n",
        "    break\n",
        "print([docs_to_json(docs)])\n",
        "\n",
        "#srsly.write_json(\"spacy_format1.json\", [docs_to_json(docs)])\n",
        "               "
      ]
    },
    {
      "cell_type": "code",
      "execution_count": null,
      "metadata": {
        "id": "NN4Ge1aPKV15"
      },
      "outputs": [],
      "source": [
        "#covert annotated test data to json file \n",
        "docs = []\n",
        "for text, annot in Test_data:\n",
        "    doc = nlp(text)\n",
        "    tags = biluo_tags_from_offsets(doc, annot['entities'])\n",
        "    entities = spans_from_biluo_tags(doc, tags)\n",
        "    doc.ents = entities\n",
        "    docs.append(doc)\n",
        "    break\n",
        "print (docs)\n",
        "\n",
        "#srsly.write_json(\"spacy_format2.json\", [docs_to_json(docs)])"
      ]
    },
    {
      "cell_type": "code",
      "execution_count": null,
      "metadata": {
        "id": "GVRPdy-M5Rid"
      },
      "outputs": [],
      "source": [
        "!python -m spacy train en save-model './spacy_format1.json' './spacy_format2.json' #train model and save to directory(replace \"save-model\" with your directory name)\n"
      ]
    },
    {
      "cell_type": "markdown",
      "metadata": {
        "id": "0bpik8bo6Th1"
      },
      "source": [
        "Testing Model \n"
      ]
    },
    {
      "cell_type": "code",
      "execution_count": null,
      "metadata": {
        "id": "NTXHbQdD7pns"
      },
      "outputs": [],
      "source": [
        "from IPython.core.display import display,HTML"
      ]
    },
    {
      "cell_type": "code",
      "execution_count": null,
      "metadata": {
        "id": "19gP_SIFikba"
      },
      "outputs": [],
      "source": [
        "sentence1=\"Alright, You too. Bye, thank you. CCA: That is why we are beseeching you to visit our website so that you can actually see this, at your leisure time just visit our website www.honeyand banana.com CCA: So that you can actually see all this product and decide to go for any CCA: But before you go, I’d like to get some more information about you, can I go ahead? CCA: Thank you! And in case we’d like to get across to you in the future , how would you prefer we get across to you, is it via phone call or via sms? CCA: Ah ok, but you just try ours out. We have the one if your, if you want to delay your ejaculation , we have our fiesta prolong, if you want to have a skin to skin experience and still enjoy your sex as much as you want to we have the fiesta ultra thin, and that is why I am telling you our fiesta products are special condoms CCA: You just visit our our website and you will get to know more about all this sir \""
      ]
    },
    {
      "cell_type": "code",
      "execution_count": null,
      "metadata": {
        "id": "4NtfStGbq9M4"
      },
      "outputs": [],
      "source": [
        "sentence3=\"welcome to honey and banana connect good afternoon my name is dami may i know your name and where you are calling from hello good afternoon good afternoon sir my name is dami may i know your name and where you are calling us from this is emmanuel on the line and i'm calling from lagos okay my emmanuel may i know what local government in lagos state oshodi isolo can you please come again with that oshodi isolo okay oshodi isolo okay thank you very much how may i assist you sir okay well actually uhm i just called for information i was travelling to my side when i saw the advert that you know call for pregnancy prevention tips so i will like to know more about the product and services you know all the things that are that's why i called okay mr emmanuel you are actually calling the right channel this is dkt nigeria what we do is promote family planning and prevention of hiv and aids and we have different contraceptive methods for you and your partner we have what is called lydia ied which is just a c or y shaped device that is like a small flexible plastic and it is inserted in the uterus for contraception and your partner can get this for around three thousand naira it can last her for between 5 or 10 years depending on how long she wants to sit how long she wants to stay and the one she decides to go for we have level fem as well which is a safe low dose pill taken daily to prevent pregnancy and it contains twenty eight pills so your partner takes one everyday so as to get protected for a month she can get that for between fifty to hundred naira in pharmacies in chemist and mating stores but for a first time user we'll always suggest that she get to see her doctor so that they can actually recommend her recommend it for her aside this mr emmanuel we have what we call implant and the implant we have our dkt include level plant and implant on nxt and this is just like a small flexible rod which is just placed under the skin of the upper arm to prevent pregnancy and it is as small as a match stick and can prevent pregnancy up to three years and for our level plant of implant nxt your partner can get that around three thousand in clinics and hospitals around you but aside this we have our postpill which is an emergency pill and it is a one dose after sex pill which your partner can always get in pharmacies chemist and mating stores in your neighbourhood for around two hundred and fifty naira and we always say postpill is your last chance to prevent pregnancy however post pill should not be used more than four times in a month aside these we have our cyania press injection which is a low dose contraceptive injection that is given every three months and it comes with a very small needle in a prefilled ready to use syringe and it's injected into the skin of the thigh or the stomach which is less painful and your partner can get the cyania press for around three fifty to four hundred naira in pharmacies in clinics and hospitals around you but aside this we have the fiesta condoms for the men as well which can protect from sti and at the same time give you the best of comfort you want for our fiesta condoms we have twelve variants of these fiesta condoms and they are special condoms and aside that we have our kiss condoms as well all you have to do is visit our website www dot honey and banana dot com where you get to have more information as regards all these products which i've talked about mr emmanuel so these are all the contraceptive methods we have at dkt at the present mr emmanuel wow that's kind of cool okay well ahm are you guys stay in lagos here yes we have partner clinics around and you we can always refer you to our partner clinics incase you desire to go for one yeah I'll I'll I'll if you can help me with their arrangement let's talk i'll like to go there have you decided to go for any uhm yeah actually yes you know i i've decided like the one you said ah you know the one you said the one that is inserted on the uterus the ied the lydia ied yeah exactly okay so you want to know where you can get the lydia ied yeah exactly are you ready to go for it now or you will call us back when you get to once you are ready if i can visit the shop i can quickly get it from the shop you get no you are not the one to get it your partner would be the one to take teh ied oh i'm going with her right yes you have to go with her they will have to carry out some tests on her to see if she can actually use it as well and both of you will be counted on the different contraceptive methods which we have okay okay no problem I'll love if you have the address maybe I'll okay you said you are in lagos am i correct yes exactly in oshodi isolo to be precise yes exactly okay kindly stay on the line while i check a place for you okay okay are you close to saint raphael hospital do you have you heard of saint raphael hosipal where exactly is it in oshodi or isolo yeah it's around oshodi isolo the address is number one hundred and fourteen lateef adegboyega street grandmate bustop okota is that place close to you oh yeah yeah yeah it's close to me yeah is it very close to you yeah it's close to me it's close to me okay let me give you do you have a pen there so that you can put it down sir ah okay i can get it down on my second phone go ahead okay the name of the hospital is saint raphael hospital saint raphael hospital yes and the address is number one hundred and fourteen lateef adegboyega grandmate hospital okota one hundred and fourteen lateef adegboyega grandmate bustop okota and there you can talk to nurse ono phillip are you with okay the name of the nurse that will attend to you there is nurse ono phillip okay okay okay and i can also get you her number as well the phone number is zero eight one zero eight one three four three four two four two four zero five two seven zero five two seven the number once again is zero eight one three four two four zero five two seven and you can always book an appointment with nurse ono phillip before you get to know with her okay I'll okay sir but before you leave sir I'll like to get more information about you can i go ahead sir yes you can go ahead okay you said you are married am i correct you said you are married am i correct sir yes of course i am okay can i know how many children you have presently currently three and you are working am i correct yeah exactly okay thank you may i know how old you are sir actually i am forty two in may this year okay thank you very much just incase we'd like to get in touch with you in future how would you prefer we get in touch is it by phone call or by sms ehn i'll prefer sms because sometimes my work i usually don't pick calls so alright okay that's okay thank you very much and please may i know how you got to know about us well actually i was browsing ah ah you know a website and i saw the ad i think maybe on the website yeah okay is it on or website or is it facebook or instagram or twitter on i think it's ehm google advert okay google advert okay thank you very much then okay thank you\""
      ]
    },
    {
      "cell_type": "code",
      "execution_count": null,
      "metadata": {
        "id": "TEpuadACq_3f"
      },
      "outputs": [],
      "source": [
        "sentence4=\"Good morning, welcome to Honey and Banana Connect, my name is Akin, how may I assist you? It’s me Success. May I address you as Miss or Mrs?  Miss. Okay Miss Success, how may I assist you? I have someone that is HIV positive. Alright, do you have any enquiry you want to make or you want us to refer the person? I want you to refer the person. Okay ma, I suggest you visit the nearest hospital and take the person there because what we do here is attend to enquires about prevention on pregnancy. Visit any hospital, they will be in the best position to assist you. Would that be all for now? Yes. Alright, thank you for calling Honey and Banana Connect, enjoy the rest of your day\"\n"
      ]
    },
    {
      "cell_type": "code",
      "execution_count": null,
      "metadata": {
        "id": "64PTt8sgZvqn"
      },
      "outputs": [],
      "source": [
        "\n",
        "import spacy\n",
        "from spacy import displacy"
      ]
    },
    {
      "cell_type": "code",
      "execution_count": null,
      "metadata": {
        "id": "HzYXl7IphfvS"
      },
      "outputs": [],
      "source": [
        "import os"
      ]
    },
    {
      "cell_type": "code",
      "execution_count": null,
      "metadata": {
        "id": "gs2Mg5wy14uR"
      },
      "outputs": [],
      "source": [
        "model2= spacy.load(\"/content/drive/MyDrive/DKT/DKT_sample_data/DSN/FOGG_Model2/save-model/model-best\")#loading the best model"
      ]
    },
    {
      "cell_type": "code",
      "execution_count": null,
      "metadata": {
        "id": "IQyPzIphhaE-"
      },
      "outputs": [],
      "source": [
        "import scispacy\n",
        "import spacy\n",
        "from spacy import displacy\n",
        "\n",
        "\n",
        "\n",
        "displacy.render(doc, style='ent', options=options)"
      ]
    },
    {
      "cell_type": "code",
      "execution_count": null,
      "metadata": {
        "id": "_24dcAD8NQn7"
      },
      "outputs": [],
      "source": [
        "import scispacy\n",
        "import spacy\n",
        "from spacy import displacy\n",
        "\n",
        "# nlp = spacy.load(\"en_ner_jnlpba_md\")\n",
        "#nlp = spacy.load(\"en_core_sci_md\")\n",
        "\n",
        "#text = \"\"\"The purpose of our study was to learn the distribution characteristics of cancer stem cell markers (CD24, CD44) in invasive carcinomas with different grade and molecular subtype. For research was used 1324 postoperative breast cancer samples, from which were selected 393 patient with invasive ductal carcinoma samples examined 2008-2012 in Laboratory of \"Pathgeo Union of Pathologist\" is and N.Kipshidze Central University Hospital. The age range is between 23-73 year. For all cases were performed immunohistochemical study using ER, PR, Her2, Ki67, CK5- molecular markers (Leica Microsystems). For identify cancer stem cells mononuclear antibodies CD24 (BIOCARE MEDICAL, CD44 - Clone 156-3C11; CD24 - Clone SN3b) were used. Association of CD44/CD24 expression in different subtypes of cells, between clinicopathological parameters and different biological characteristics were performed by Pearson correlation and usind X2 tests. Obtained quantitative statistical analyses were performed by using SPSS V.19.0 program. Statistically significant were considered 95% of confidence interval. The data shows, that towards G1-G3, amount of CD44 positive cases increased twice. CD44 positive cases are evenly distributed between Luminal A, Luminal B, HER2+, triple negative basal like cell subtypes and in significantly less (4,8 times) in Her2+ cases. Maximum amount of CD44 negative cases is shown in Luminal A subtype, which could be possible cause of better prognosis and high sensitivity for chemotherapy. For one's part such aggressive subtypes of breast cancer as Luminal B and basal like cell type, are characterized by CD44 positive and antigen high expression, which can be reason of aggressive nature of this types and also reason of chemotherapy resistance. As well as amount of CD24 positive cases according to malignancy degree, also antigen expression features does not show any type of correlation between malignancy degree and CD24 positivity or with CD24 expression features, or presence of stem cells. That can be the reason of tumor aggressivity and chemoresistance. exceptions are Her2 positive tumors because they have different base of carcinogenesis.\"\"\"\n",
        "\n",
        "#doc = nlp(text)\n",
        "options = get_entity_options()\n",
        "displacy.render(result1, style='ent', options=options,jupyter=True)"
      ]
    },
    {
      "cell_type": "code",
      "execution_count": null,
      "metadata": {
        "id": "4uzbR1V8wxJS"
      },
      "outputs": [],
      "source": [
        "import random \n",
        "\n",
        "def get_entity_options(random_colors=False):\n",
        "    \"\"\"\n",
        "    generating color options for visualizing the named entities\n",
        "    \"\"\"\n",
        "    def color_generator(number_of_colors):\n",
        "        color = [\"#\"+''.join([random.choice('0123456789ABCDEF') for j in range(6)])\n",
        "             for i in range(number_of_colors)]\n",
        "        return color\n",
        "\n",
        "    entities = [\"Motivation\", \"Prompt\", \"Ability\"]\n",
        "    \n",
        "    colors = {\"ENT\":\"#E8DAEF\"}\n",
        "    \n",
        "    if random_colors:\n",
        "        color = color_generator(len(entities))\n",
        "        for i in range(len(entities)):\n",
        "            colors[entities[i]] = color[i]\n",
        "    else:\n",
        "        entities_cat_1 = {\"Motivation\":\"#F9E79F\", \"SO\":\"#F7DC6F\", \"TAXON\":\"#F4D03F\", \"CHEBI\":\"#FAD7A0\", \"GO\":\"#F8C471\", \"CL\":\"#F5B041\"}\n",
        "        entities_cat_2 = {\"Prompt\":\"#82E0AA\", \"CELL_TYPE\":\"#AED6F1\", \"CELL_LINE\":\"#E8DAEF\", \"RNA\":\"#82E0AA\", \"PROTEIN\":\"#82E0AA\"}\n",
        "        entities_cat_3 = {\"Ability\":\"#D7BDE2\", \"CHEMICAL\":\"#D2B4DE\"}\n",
        "        \n",
        "\n",
        "        entities_cats = [entities_cat_1, entities_cat_2, entities_cat_3]\n",
        "        for item in entities_cats:\n",
        "            colors = {**colors, **item}\n",
        "    \n",
        "    options = {\"ents\": entities, \"colors\": colors}\n",
        "    \n",
        "    return options"
      ]
    },
    {
      "cell_type": "code",
      "execution_count": null,
      "metadata": {
        "id": "JSceaizdAJcj"
      },
      "outputs": [],
      "source": [
        "def get_entity():\n",
        "  colors={\"MOTIVATION\":\"#4E0000\"}\n",
        "#options={\"ents\":[\"Motivation\"],\"colors\":colors}\n",
        "displacy.render(result2,style='ent',jupyter=True,options={\"ent\":[\"MOTIVATION\"],\"colors\":colors})\n",
        "#with open(\"r2.txt\",\"w\",encoding=\"utf-8\")as f:\n",
        "  #f.write(\"r\")"
      ]
    },
    {
      "cell_type": "code",
      "execution_count": null,
      "metadata": {
        "id": "10FRndQPfK18"
      },
      "outputs": [],
      "source": [
        "#pip install scispacy"
      ]
    },
    {
      "cell_type": "code",
      "execution_count": null,
      "metadata": {
        "id": "b5C8-DNAOa_s"
      },
      "outputs": [],
      "source": [
        "import pprint\n",
        "from spacy.scorer import Scorer"
      ]
    },
    {
      "cell_type": "code",
      "execution_count": null,
      "metadata": {
        "id": "EScKnJEsnXnP"
      },
      "outputs": [],
      "source": [
        "# Default scoring pipeline\n",
        "scorer = Scorer()\n",
        "\n",
        "\n",
        "scorer = Scorer(model)\n",
        "print (scorer)"
      ]
    },
    {
      "cell_type": "code",
      "execution_count": null,
      "metadata": {
        "id": "TrBJJLpRe5-J"
      },
      "outputs": [],
      "source": [
        "#evaluating the f-score \n",
        "def Eval(ner_model,test_data):\n",
        "  scorer = Scorer()\n",
        "  try:\n",
        "    for input_, annot in test_data:\n",
        "      doc_gold_text = ner_model.make_doc(input_)\n",
        "      gold = GoldParse(doc_gold_text, entities=annot['entities'])\n",
        "      pred_value = ner_model(input_)\n",
        "      scorer.score(pred_value, gold)\n",
        "  except Exception as e: print(e)\n",
        "\n",
        "  return scorer.scores\n",
        "     \n",
        " \n",
        "  \n",
        " \n"
      ]
    },
    {
      "cell_type": "code",
      "execution_count": null,
      "metadata": {
        "id": "c3_wuxTzoAM-"
      },
      "outputs": [],
      "source": [
        "Eval(model, Test_data)"
      ]
    },
    {
      "cell_type": "code",
      "execution_count": null,
      "metadata": {
        "id": "D5PEDl9Hr50w"
      },
      "outputs": [],
      "source": [
        "import spacy\n",
        "from spacy.gold import GoldParse\n",
        "from spacy.scorer import Scorer\n",
        "def evaluate2(ner_model, examples):\n",
        "    scorer = Scorer()\n",
        "    for input_, annot in examples:\n",
        "        doc_gold_text = ner_model.make_doc(input_)\n",
        "        gold = GoldParse(doc_gold_text, entities=annot['entities'])\n",
        "        pred_value = ner_model(input_)\n",
        "        scorer.score(pred_value, gold)\n",
        "    return scorer.scores"
      ]
    },
    {
      "cell_type": "code",
      "execution_count": null,
      "metadata": {
        "id": "Fw8oS9INr9tt"
      },
      "outputs": [],
      "source": [
        "evaluate2(model,Test_data)"
      ]
    },
    {
      "cell_type": "code",
      "execution_count": null,
      "metadata": {
        "id": "bIUcaPbhu2lu"
      },
      "outputs": [],
      "source": [
        "spacy.display.render"
      ]
    },
    {
      "cell_type": "code",
      "execution_count": null,
      "metadata": {
        "id": "ZQva9B2iiZce"
      },
      "outputs": [],
      "source": [
        "sentence2= \"C: is okopi onu pms. Thank you for callingThank you for calling DKT nigeria. Good evening. CCA: My name is Martin CCA: May I know your name and where you are calling from? C: I’m Mrs Ade Boaro. C: Mr ade Boaro, I’m calling from ehn Osun state. C: I’m calling from Jabu Osun State CCA: Ok may I know the local government in osun state Mrs Ade C: It’s ehn oriade, oriade local government Joseph Ayo Babalola university, that’s where I am calling Jabu CCA: Ok, so how may I assist CCA: Assist you Mrs Ade shobiaro C: Mrs Ade boaro. C: Mrs Ade boaru, please there's a woman that I do get your product from C: in our area and for the past two months now, she say she has been calling your company to come and supply her C: and she has not gotten it. CCA: May I know the name of the product C: Uhmmm! C: 3 months injection C: on the lap. The sayana press Yes eh hen , yeah on the lap C: And i have not been able to get it from her since now. C: Somewhere around. May I know the location of ? C: The woman, She’s in ehn owena C: Okay Owena, besides Ipo Arakeji, where Joseph Ayo babalola university is located CCA: Hmmm.okay. So, Did you check elsewhere? C: No, I didn’t check, I do , i do get from her because I know she’s reliable. C: Okay! She’s the one that recommended it for me. C: Okay She said when next she gets that she’ll call me for the past two months now she has not called and I called her too she said C: she has not gotten from your company that’s why I called. C: okay, okay CCA: You can actually get from any pharmaceutical company and give it to her to ehn CCA: Okay! Thank you. Instead of C: okay.okay.No problem. Okay,thank you. Instead of waiting CCA: okay okay. It might be due by now.Okay, okay instead of waiting endlessly, you might just CCA: get it , okay and give her to C: give you to inject it.okay. C: Yes please. Thank you very much. You are welcome. Thank you. Is that the only CCA: reason why you are calling this evening? CCA: Yes that’s it. Before you go,I’d like to get your database please CCA: My database? Yes please May I know the number of children you have CCA: Twomay I have your age please? CCA: I’m 38. Okay.Thank you very much for the information. CCA: okay thank you. You can also Okay visit our website www.honeyandbanana.com C: to find out more about our products. Okay! And services. C: Okay thank you very much. CCA: Thank you very much for calling DKT Nigeria this evening Mrs Ade boaru. C: You are welcome. Do have a nice day. \"\n"
      ]
    },
    {
      "cell_type": "code",
      "execution_count": null,
      "metadata": {
        "id": "SC6NNz5n1nfe"
      },
      "outputs": [],
      "source": [
        "from spacy import displacy"
      ]
    },
    {
      "cell_type": "code",
      "execution_count": null,
      "metadata": {
        "id": "cHUj4Rca27Dp"
      },
      "outputs": [],
      "source": [
        "#testing the model on sentence 2\n",
        "result2 = model(sentence1)\n",
        "#for ent in result2.ents: \n",
        "    #print(ent.text, ent.start_char, ent.end_char, ent.label_)\n",
        "#\"SO\":\"#F7DC6F\", \"TAXON\":\"#F4D03F\",\n",
        "colors={\"ABILITY\":\"#4E0000\",\"MOTIVATION\":\"#F7DC6F\", \"PROMPT\":\"#F4D03F\"}\n",
        "#options={\"ents\":[\"Motivation\"],\"colors\":colors}\n",
        "displacy.render(result2,style='ent',jupyter=True,options={\"ent\":[\"ABILITY\",\"PROMPT\",\"MOTIVATION\"],\"colors\":colors})\n",
        "#with open(\"r2.txt\",\"w\",encoding=\"utf-8\")as f:\n",
        "  #f.write(\"r\")"
      ]
    },
    {
      "cell_type": "code",
      "execution_count": null,
      "metadata": {
        "id": "vcGqm2cY26o6"
      },
      "outputs": [],
      "source": [
        "#testing the model on sentence 2\n",
        "result2 = model(sentence2)\n",
        "#for ent in result2.ents: \n",
        "    #print(ent.text, ent.start_char, ent.end_char, ent.label_)\n",
        "#\"SO\":\"#F7DC6F\", \"TAXON\":\"#F4D03F\",\n",
        "colors={\"ABILITY\":\"#4E0000\",\"MOTIVATION\":\"#F7DC6F\", \"PROMPT\":\"#F4D03F\"}\n",
        "#options={\"ents\":[\"Motivation\"],\"colors\":colors}\n",
        "displacy.render(result2,style='ent',jupyter=True,options={\"ent\":[\"ABILITY\",\"PROMPT\",\"MOTIVATION\"],\"colors\":colors})\n",
        "#with open(\"r2.txt\",\"w\",encoding=\"utf-8\")as f:\n",
        "  #f.write(\"r\")"
      ]
    },
    {
      "cell_type": "code",
      "execution_count": null,
      "metadata": {
        "id": "6J-oHjv7u5yH"
      },
      "outputs": [],
      "source": [
        "#testing the model on sentence 2\n",
        "result2 = model(sentence4)\n",
        "#for ent in result2.ents: \n",
        "    #print(ent.text, ent.start_char, ent.end_char, ent.label_)\n",
        "#\"SO\":\"#F7DC6F\", \"TAXON\":\"#F4D03F\",\n",
        "colors={\"ABILITY\":\"#4E0000\",\"MOTIVATION\":\"#F7DC6F\", \"PROMPT\":\"#F4D03F\"}\n",
        "#options={\"ents\":[\"Motivation\"],\"colors\":colors}\n",
        "displacy.render(result2,style='ent',jupyter=True,options={\"ent\":[\"ABILITY\",\"PROMPT\",\"MOTIVATION\"],\"colors\":colors})\n",
        "#with open(\"r2.txt\",\"w\",encoding=\"utf-8\")as f:\n",
        "  #f.write(\"r\")"
      ]
    },
    {
      "cell_type": "code",
      "execution_count": null,
      "metadata": {
        "id": "oGVU3A641eNI"
      },
      "outputs": [],
      "source": [
        "sentence5=\"it’s levofem ok We really apologise for that Oyinkansola If I get you correctly you said you’ve been requesting for post pill for a while now Ok are you a wholesaler I’m not an wholesaler I’m an individual ok Okay final eh o producter am I correct Yes yeah ok and we told you we’d get across to you And you were actually referred to one our partner clinics over there Yah yeah that was where you said you wanted IUD Oyinkansola Yes is there any big pharmacy around you there or any big Or any big eh there are big pharmacies around but they don’t have they still don’t have ah post ah levofem Ok oyinkansola we would try to get Get you we would try to get back to you on this very soon Yes that is what we are saying if you are saying One of the clinics we have over there if you are saying The pharmacy there are no clinics They don’t ev they don’t have Is it that they don’t sell or they are out of stock Ok please what local government is your local government once again Okay I’m trying to see if I can see a pharmacy around you there where I can refer you to and that is what I’ve been Ok if I get you correctly the doctor they gave you the other time You were able to get the pill from him Ok but would you mind if I try to get the phone number of the doctor once again Ok so that you can even so that would be that if that would easier for you I would give you his phone number so that you can actually contact him and get your levofem from him With that I hope I’ve been able to help out Doctor is doctor Alexandra Umai am I correct And his phone number is 0 8 0 I’m still very much with you Should I go ahead please Let me give you doctor Alexandra number just confirm the number once again 0 8 0 3 6 6 9 8 9 Just try to give doctor Alexandra a call I think that should make it very easy for you this time around If we have a pharmacy around you there, I will try to give you a call Oyinkansola I can barely get that please Presently we don’t have many pharmacies around you there and that is why it is probably a little difficult Getting our products across to the place But I’m seeing a place around you there but that one is around Abuja Yeas that one Is a little Tle bit far from you Presently I apologise we don’t have Alright. We would try to see we would try to look into that and see our products penetrating your env area Alright there is no problem thank you al Thank you for calling honey and banana connect do have a wonderful day I’ve been calling I think I’ve called several times And somebody promised to return a call it’s regarding the levofem ok Yeah I’ve been out of it for a month now and I’ve been in search for it in all the pharmacy ok I couldn’t get and I was told a call will be put through to me once No o that was That was the very first time when I wanted to eh This thing you guys have been saying you will get back to me This time around just tell me you guys should just refer me to somebody I can be I can go get it from I’ve been to they don’t sell They said the third round about opposite ehn delta afrik Your company was There a day before but they didn’t supply levofem Ok so they they still don’t have it And the little the local ones around me they don’t they will be like they don’t even know of Even if it is agugi even if it is agugi or sapalondon I can still go because the doctor I was referred to for my IUD then Ok I got I later changed my mind and I got the pills from him I don’t have his contact again Kindly hold on please Alright erm Alright 0 8 0 Ok ok sorry ehn sorry apart from Apart from ikate vicinity What about lekki phase 1 Apart from this Ikate vicinity Do you have any uhn Person that has it currently around lekki phase 1 Igbeji is after Aja So even lekki phase 1 all the pharmacies health floor Health floors and all of that These guys don’t have your product\""
      ]
    },
    {
      "cell_type": "code",
      "execution_count": null,
      "metadata": {
        "id": "SPG_j9QF26M2"
      },
      "outputs": [],
      "source": [
        "#testing the model on sentence 2\n",
        "result2 = model(sentence5)\n",
        "#for ent in result2.ents: \n",
        "    #print(ent.text, ent.start_char, ent.end_char, ent.label_)\n",
        "#\"SO\":\"#F7DC6F\", \"TAXON\":\"#F4D03F\",\n",
        "colors={\"ABILITY\":\"#4E0000\",\"MOTIVATION\":\"#F7DC6F\", \"PROMPT\":\"#F4D03F\"}\n",
        "#options={\"ents\":[\"Motivation\"],\"colors\":colors}\n",
        "displacy.render(result2,style='ent',jupyter=True,options={\"ent\":[\"ABILITY\",\"PROMPT\",\"MOTIVATION\"],\"colors\":colors})\n",
        "#with open(\"r2.txt\",\"w\",encoding=\"utf-8\")as f:\n",
        "  #f.write(\"r\")"
      ]
    },
    {
      "cell_type": "code",
      "execution_count": null,
      "metadata": {
        "id": "j3RWhZ6E-ITx"
      },
      "outputs": [],
      "source": [
        "#testing the model on sentence 2\n",
        "result2 = model2(sentence5)\n",
        "#for ent in result2.ents: \n",
        "    #print(ent.text, ent.start_char, ent.end_char, ent.label_)\n",
        "#\"SO\":\"#F7DC6F\", \"TAXON\":\"#F4D03F\",\n",
        "colors={\"ABILITY\":\"#4E0000\",\"MOTIVATION\":\"#F7DC6F\", \"PROMPT\":\"#F4D03F\"}\n",
        "#options={\"ents\":[\"Motivation\"],\"colors\":colors}\n",
        "displacy.render(result2,style='ent',jupyter=True,options={\"ent\":[\"ABILITY\",\"PROMPT\",\"MOTIVATION\"],\"colors\":colors})\n",
        "#with open(\"r2.txt\",\"w\",encoding=\"utf-8\")as f:\n",
        "  #f.write(\"r\")"
      ]
    },
    {
      "cell_type": "code",
      "execution_count": null,
      "metadata": {
        "id": "YQyJ6-gHiYOO"
      },
      "outputs": [],
      "source": [
        ""
      ]
    }
  ],
  "metadata": {
    "colab": {
      "collapsed_sections": [],
      "name": "Copy of FOGG MODEL .ipynb",
      "provenance": []
    },
    "kernelspec": {
      "display_name": "Python 3",
      "name": "python3"
    }
  },
  "nbformat": 4,
  "nbformat_minor": 0
}