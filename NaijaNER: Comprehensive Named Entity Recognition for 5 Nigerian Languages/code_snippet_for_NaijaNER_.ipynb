{
  "nbformat": 4,
  "nbformat_minor": 0,
  "metadata": {
    "colab": {
      "name": "code snippet for NER .ipynb",
      "provenance": [],
      "collapsed_sections": [],
      "toc_visible": true
    },
    "kernelspec": {
      "display_name": "Python 3",
      "name": "python3"
    }
  },
  "cells": [
    {
      "cell_type": "markdown",
      "metadata": {
        "id": "qBil5jgaK4x5"
      },
      "source": [
        "Importing necessary libraries\n"
      ]
    },
    {
      "cell_type": "code",
      "metadata": {
        "id": "Ckl6OtiXCi4F"
      },
      "source": [
        "import json\n",
        "import spacy\n",
        "import pandas as pd\n",
        "import ast \n",
        "import json\n",
        "import spacy\n",
        "import random\n",
        "import logging\n",
        "import srsly\n",
        "from spacy.gold import docs_to_json, biluo_tags_from_offsets, spans_from_biluo_tags\n",
        "import os\n",
        "from __future__ import unicode_literals, print_function\n",
        "import plac\n",
        "import random\n",
        "from pathlib import Path\n",
        "from tqdm import tqdm\n",
        "from spacy.scorer import Scorer\n",
        "from spacy.gold import GoldParse\n"
      ],
      "execution_count": null,
      "outputs": []
    },
    {
      "cell_type": "code",
      "metadata": {
        "id": "gg7RjjaSiYNe",
        "colab": {
          "base_uri": "https://localhost:8080/"
        },
        "outputId": "058e59da-55bd-4db6-9529-42203b386b72"
      },
      "source": [
        "from google.colab import drive\n",
        "drive.mount('/content/drive') #mount drive "
      ],
      "execution_count": null,
      "outputs": [
        {
          "output_type": "stream",
          "text": [
            "Mounted at /content/drive\n"
          ],
          "name": "stdout"
        }
      ]
    },
    {
      "cell_type": "markdown",
      "metadata": {
        "id": "Jr_iaDMhLXCk"
      },
      "source": [
        "import train and test data\n"
      ]
    },
    {
      "cell_type": "code",
      "metadata": {
        "id": "DONLPsmdbDa8"
      },
      "source": [
        "train= ['/content/1-3.txt', '/content/10-12.txt','/content/7-9.txt','/content/4-6.txt','/content/49-50.txt',\"/content/46-48.txt\",\"/content/43-45.txt\",\"/content/37-39.txt\",\"/content/34-36.txt\",\"/content/28-30.txt\",\"/content/25-27.txt\",\"/content/22-24.txt\",\"/content/16-18.txt\",\"/content/13-15.txt\"]"
      ],
      "execution_count": null,
      "outputs": []
    },
    {
      "cell_type": "code",
      "metadata": {
        "id": "H8Pu05I1Gpwq"
      },
      "source": [
        "#reading annotated files \n",
        "Train_data=[] \n",
        "for fname in train:\n",
        "  f=open(fname,\"r\")\n",
        "  d=(f.read())\n",
        "  y=ast.literal_eval(d)\n",
        "  Train_data.extend(y)\n",
        "\n"
      ],
      "execution_count": null,
      "outputs": []
    },
    {
      "cell_type": "code",
      "metadata": {
        "id": "8_T_tTJCI84l"
      },
      "source": [
        "test = ['/content/40-42.txt','/content/31-33.txt','/content/19-21.txt']"
      ],
      "execution_count": null,
      "outputs": []
    },
    {
      "cell_type": "code",
      "metadata": {
        "id": "3J_LT2bT2kCD",
        "colab": {
          "base_uri": "https://localhost:8080/"
        },
        "outputId": "83b20c30-48c8-4f81-f21d-3365a6388645"
      },
      "source": [
        "Test_data=[] \n",
        "for fname in test:\n",
        "  f=open(fname,\"r\")\n",
        "  d=(f.read())\n",
        "  y=ast.literal_eval(d)\n",
        "  Test_data.extend(y)\n",
        "print(type(Test_data))"
      ],
      "execution_count": null,
      "outputs": [
        {
          "output_type": "stream",
          "text": [
            "<class 'list'>\n"
          ],
          "name": "stdout"
        }
      ]
    },
    {
      "cell_type": "markdown",
      "metadata": {
        "id": "qnfKgMEA5eU5"
      },
      "source": [
        "Data processing\n"
      ]
    },
    {
      "cell_type": "code",
      "metadata": {
        "id": "sUdG5xK45eFV"
      },
      "source": [
        "## Training Data"
      ],
      "execution_count": 36,
      "outputs": []
    },
    {
      "cell_type": "code",
      "metadata": {
        "id": "7yW2JUWY4d_I"
      },
      "source": [
        "#load pretrained spacy english model \n",
        "nlp = spacy.load('en')\n",
        "#covert annotated train data to json file\n",
        "docs = []\n",
        "for text, annot in Train_data:\n",
        "    doc = nlp(text)\n",
        "    tags = biluo_tags_from_offsets(doc, annot['entities'])\n",
        "    entities = spans_from_biluo_tags(doc, tags)\n",
        "    doc.ents = entities\n",
        "    docs.append(doc)\n",
        "\n",
        "srsly.write_json(\"spacy_format1.json\", [docs_to_json(docs)])\n",
        "               "
      ],
      "execution_count": null,
      "outputs": []
    },
    {
      "cell_type": "code",
      "metadata": {
        "id": "NN4Ge1aPKV15"
      },
      "source": [
        "#covert annotated test data to json file \n",
        "docs = []\n",
        "for text, annot in Test_data:\n",
        "    doc = nlp(text)\n",
        "    tags = biluo_tags_from_offsets(doc, annot['entities'])\n",
        "    entities = spans_from_biluo_tags(doc, tags)\n",
        "    doc.ents = entities\n",
        "    docs.append(doc)\n",
        "\n",
        "srsly.write_json(\"spacy_format2.json\", [docs_to_json(docs)])"
      ],
      "execution_count": null,
      "outputs": []
    },
    {
      "cell_type": "code",
      "metadata": {
        "id": "GVRPdy-M5Rid",
        "colab": {
          "base_uri": "https://localhost:8080/"
        },
        "outputId": "be7962d1-b8ef-473e-d7f1-6118176e1731"
      },
      "source": [
        "!python -m spacy train en save-model './spacy_format1.json' './spacy_format2.json' #train model and save to directory(replace \"save-model\" with your directory name)\n"
      ],
      "execution_count": null,
      "outputs": [
        {
          "output_type": "stream",
          "text": [
            "\u001b[38;5;2m✔ Created output directory: save-model\u001b[0m\n",
            "Training pipeline: ['tagger', 'parser', 'ner']\n",
            "Starting with blank model 'en'\n",
            "Counting training words (limit=0)\n",
            "/usr/lib/python3.7/runpy.py:193: UserWarning: [W022] Training a new part-of-speech tagger using a model with no lemmatization rules or data. This means that the trained model may not be able to lemmatize correctly. If this is intentional or the language you're using doesn't have lemmatization data, you can ignore this warning by setting SPACY_WARNING_IGNORE=W022. If this is surprising, make sure you have the spacy-lookups-data package installed.\n",
            "  \"__main__\", mod_spec)\n",
            "\n",
            "Itn  Tag Loss    Tag %    Dep Loss    UAS     LAS    NER Loss   NER P   NER R   NER F   Token %  CPU WPS\n",
            "---  ---------  --------  ---------  ------  ------  ---------  ------  ------  ------  -------  -------\n",
            "  1   4781.032    68.359  10021.490  38.466   9.330   2219.393  35.484   6.395  10.837  100.000     6296\n",
            "  2   2124.131    83.111   8129.127  55.700  19.740   1168.275  42.000  24.419  30.882  100.000     6807\n",
            "  3   1073.887    87.493   6593.405  62.160  25.461   1374.250  42.478  27.907  33.684  100.000     7678\n",
            "  4    575.539    88.242   5591.835  64.870  28.128   1027.951  46.617  36.047  40.656  100.000     7665\n",
            "  5    385.502    88.509   4698.917  68.880  31.208    912.819  44.755  37.209  40.635  100.000     7256\n",
            "  6    310.485    89.364   4117.429  68.293  31.031    671.292  49.669  43.605  46.440  100.000     7245\n",
            "  7    184.408    89.631   3372.718  69.782  32.981    605.478  49.686  45.930  47.734  100.000     6642\n",
            "  8    154.853    89.738   2800.433  68.880  33.500    508.999  55.556  49.419  52.308  100.000     6744\n",
            "  9    121.855    89.417   2454.483  69.724  33.745    412.355  54.268  51.744  52.976  100.000     7587\n",
            " 10    112.060    89.631   2193.734  70.273  34.049    305.533  55.488  52.907  54.167  100.000     6805\n",
            " 11    119.359    89.631   1987.300  70.370  34.215    301.275  58.385  54.651  56.456  100.000     7633\n",
            " 12     91.691    89.845   1834.374  69.862  34.460    271.934  59.146  56.395  57.738  100.000     7456\n",
            " 13     75.068    89.578   1668.547  71.185  34.918    229.453  56.287  54.651  55.457  100.000     6288\n",
            " 14     97.662    89.685   1518.431  70.585  34.910    224.815  54.167  52.907  53.529  100.000     7368\n",
            " 15     65.840    89.524   1323.133  70.018  35.038    169.676  54.386  54.070  54.227  100.000     7452\n",
            " 16     66.300    89.792   1198.259  70.816  35.115    156.218  54.491  52.907  53.687  100.000     6750\n",
            " 17     55.984    90.005   1100.712  70.699  35.115    140.791  52.695  51.163  51.917  100.000     6609\n",
            " 18     61.244    89.845   1126.756  70.799  35.488    106.887  52.874  53.488  53.179  100.000     7549\n",
            " 19     47.927    89.631   1014.095  70.526  35.733    113.058  51.744  51.744  51.744  100.000     7319\n",
            " 20     53.277    89.311   1021.496  70.862  35.695    102.759  52.976  51.744  52.353  100.000     6541\n",
            " 21     37.852    89.417    808.457  70.664  35.802     76.410  53.659  51.163  52.381  100.000     6654\n",
            " 22     34.584    89.311    825.849  71.013  36.006    129.686  53.892  52.326  53.097  100.000     6729\n",
            " 23     30.848    89.097    795.126  70.170  35.526     92.696  53.892  52.326  53.097  100.000     6686\n",
            " 24     45.272    89.043    666.418  70.129  35.681     96.799  56.287  54.651  55.457  100.000     6447\n",
            " 25     30.678    89.097    774.220  70.032  35.691     86.203  56.627  54.651  55.621  100.000     6832\n",
            " 26     25.368    89.204    597.459  69.894  35.622     81.333  56.886  55.233  56.047  100.000     6966\n",
            " 27     24.471    88.990    678.189  70.073  35.477     88.990  56.805  55.814  56.305  100.000     7632\n",
            " 28     31.431    88.990    568.648  69.724  35.097     59.365  56.725  56.395  56.560  100.000     7204\n",
            " 29     32.770    89.204    576.424  70.467  35.616     67.534  57.059  56.395  56.725  100.000     7282\n",
            " 30     25.194    89.204    571.641  70.346  35.643     73.166  57.310  56.977  57.143  100.000     5712\n",
            "\u001b[38;5;2m✔ Saved model to output directory\u001b[0m\n",
            "save-model/model-final\n",
            "\u001b[2K\u001b[38;5;2m✔ Created best model\u001b[0m\n",
            "save-model/model-best\n"
          ],
          "name": "stdout"
        }
      ]
    },
    {
      "cell_type": "markdown",
      "metadata": {
        "id": "0bpik8bo6Th1"
      },
      "source": [
        "Testing Model \n"
      ]
    },
    {
      "cell_type": "code",
      "metadata": {
        "id": "19gP_SIFikba"
      },
      "source": [
        "sentence1=\" The Nigerian police say four officers were killed and one is still missing after they clashed with an armed criminal gang in the Birnin-Gwari area of Kaduna state.Police Spokesperson\\\\\n",
        "Frank Mba in a statement on Sunday said the officers were ambushed by about 100 banditsas they \\\n",
        "returned from an operation in neighbouring Niger state.The police say tens of gunmen were also killed in the clashes on Friday.The police statement denies initial reports that 18 officers were abducted during the attack.\\\n",
        "It says only 16 officers were involved in the incident and that the bodies of four of them and their weapons had\\\n",
        " been recovered, 11 survived while efforts are being intensified to rescue the officer still missing.It’s not clear whether the missing officer\\\n",
        " had been abducted by the armed men.Meanwhile, in other separate attacks on Sunday also in Kaduna state, the authorities confirmed at least five people including an 80-year-old woman and a local traditional ruler were ki\\\n",
        "In a previous attack within the week at least 18 people including mothers and their babies were kidnapped in a village in Birnin-Gwari area of the state. They’re yet to be released \""
      ],
      "execution_count": null,
      "outputs": []
    },
    {
      "cell_type": "code",
      "metadata": {
        "id": "39hv3yD6pDVp",
        "colab": {
          "base_uri": "https://localhost:8080/",
          "height": 905
        },
        "outputId": "e5bb5208-95b3-499c-f4f0-62aa67a07642"
      },
      "source": [
        "model= spacy.load(\"/content/save-model/model-best\")#loading the best model\n",
        "result1 = model(sentence1)\n",
        "for ent in result1.ents: \n",
        "    print(ent.text, ent.start_char, ent.end_char, ent.label_)\n",
        "spacy.displacy.render(result1, style='ent',jupyter=True)"
      ],
      "execution_count": null,
      "outputs": [
        {
          "output_type": "stream",
          "text": [
            "Nigerian 5 13 NORP\n",
            "police 14 20 PERSON\n",
            "four 25 29 CARDINAL\n",
            "one 55 58 CARDINAL\n",
            "Kaduna 151 157 NORP\n",
            "Mba 190 193 NORP\n",
            "Sunday 212 218 DATE\n",
            "about 100 254 263 CARDINAL\n",
            "Niger 322 327 GPE\n",
            "police 338 344 PERSON\n",
            "tens 349 353 CARDINAL\n",
            "Friday 399 405 DATE\n",
            "police 410 416 PERSON\n",
            "18 455 457 CARDINAL\n",
            "only 16 507 514 CARDINAL\n",
            "four 577 581 CARDINAL\n",
            "11 628 630 CARDINAL\n",
            "Sunday 830 836 DATE\n",
            "Kaduna 845 851 NORP\n",
            "at least five 885 898 CARDINAL\n",
            "80-year-old 919 930 DATE\n",
            "a previous 977 987 DATE\n",
            "the week 1002 1010 DATE\n",
            "at least 18 people 1011 1029 EVENT\n",
            "a village 1083 1092 DATE\n",
            "Birnin 1096 1102 GPE\n"
          ],
          "name": "stdout"
        },
        {
          "output_type": "display_data",
          "data": {
            "text/html": [
              "<span class=\"tex2jax_ignore\"><div class=\"entities\" style=\"line-height: 2.5; direction: ltr\"> The \n",
              "<mark class=\"entity\" style=\"background: #c887fb; padding: 0.45em 0.6em; margin: 0 0.25em; line-height: 1; border-radius: 0.35em;\">\n",
              "    Nigerian\n",
              "    <span style=\"font-size: 0.8em; font-weight: bold; line-height: 1; border-radius: 0.35em; text-transform: uppercase; vertical-align: middle; margin-left: 0.5rem\">NORP</span>\n",
              "</mark>\n",
              " \n",
              "<mark class=\"entity\" style=\"background: #aa9cfc; padding: 0.45em 0.6em; margin: 0 0.25em; line-height: 1; border-radius: 0.35em;\">\n",
              "    police\n",
              "    <span style=\"font-size: 0.8em; font-weight: bold; line-height: 1; border-radius: 0.35em; text-transform: uppercase; vertical-align: middle; margin-left: 0.5rem\">PERSON</span>\n",
              "</mark>\n",
              " say \n",
              "<mark class=\"entity\" style=\"background: #e4e7d2; padding: 0.45em 0.6em; margin: 0 0.25em; line-height: 1; border-radius: 0.35em;\">\n",
              "    four\n",
              "    <span style=\"font-size: 0.8em; font-weight: bold; line-height: 1; border-radius: 0.35em; text-transform: uppercase; vertical-align: middle; margin-left: 0.5rem\">CARDINAL</span>\n",
              "</mark>\n",
              " officers were killed and \n",
              "<mark class=\"entity\" style=\"background: #e4e7d2; padding: 0.45em 0.6em; margin: 0 0.25em; line-height: 1; border-radius: 0.35em;\">\n",
              "    one\n",
              "    <span style=\"font-size: 0.8em; font-weight: bold; line-height: 1; border-radius: 0.35em; text-transform: uppercase; vertical-align: middle; margin-left: 0.5rem\">CARDINAL</span>\n",
              "</mark>\n",
              " is still missing after they clashed with an armed criminal gang in the Birnin-Gwari area of \n",
              "<mark class=\"entity\" style=\"background: #c887fb; padding: 0.45em 0.6em; margin: 0 0.25em; line-height: 1; border-radius: 0.35em;\">\n",
              "    Kaduna\n",
              "    <span style=\"font-size: 0.8em; font-weight: bold; line-height: 1; border-radius: 0.35em; text-transform: uppercase; vertical-align: middle; margin-left: 0.5rem\">NORP</span>\n",
              "</mark>\n",
              " state.Police Spokesperson\\Frank \n",
              "<mark class=\"entity\" style=\"background: #c887fb; padding: 0.45em 0.6em; margin: 0 0.25em; line-height: 1; border-radius: 0.35em;\">\n",
              "    Mba\n",
              "    <span style=\"font-size: 0.8em; font-weight: bold; line-height: 1; border-radius: 0.35em; text-transform: uppercase; vertical-align: middle; margin-left: 0.5rem\">NORP</span>\n",
              "</mark>\n",
              " in a statement on \n",
              "<mark class=\"entity\" style=\"background: #bfe1d9; padding: 0.45em 0.6em; margin: 0 0.25em; line-height: 1; border-radius: 0.35em;\">\n",
              "    Sunday\n",
              "    <span style=\"font-size: 0.8em; font-weight: bold; line-height: 1; border-radius: 0.35em; text-transform: uppercase; vertical-align: middle; margin-left: 0.5rem\">DATE</span>\n",
              "</mark>\n",
              " said the officers were ambushed by \n",
              "<mark class=\"entity\" style=\"background: #e4e7d2; padding: 0.45em 0.6em; margin: 0 0.25em; line-height: 1; border-radius: 0.35em;\">\n",
              "    about 100\n",
              "    <span style=\"font-size: 0.8em; font-weight: bold; line-height: 1; border-radius: 0.35em; text-transform: uppercase; vertical-align: middle; margin-left: 0.5rem\">CARDINAL</span>\n",
              "</mark>\n",
              " banditsas they returned from an operation in neighbouring \n",
              "<mark class=\"entity\" style=\"background: #feca74; padding: 0.45em 0.6em; margin: 0 0.25em; line-height: 1; border-radius: 0.35em;\">\n",
              "    Niger\n",
              "    <span style=\"font-size: 0.8em; font-weight: bold; line-height: 1; border-radius: 0.35em; text-transform: uppercase; vertical-align: middle; margin-left: 0.5rem\">GPE</span>\n",
              "</mark>\n",
              " state.The \n",
              "<mark class=\"entity\" style=\"background: #aa9cfc; padding: 0.45em 0.6em; margin: 0 0.25em; line-height: 1; border-radius: 0.35em;\">\n",
              "    police\n",
              "    <span style=\"font-size: 0.8em; font-weight: bold; line-height: 1; border-radius: 0.35em; text-transform: uppercase; vertical-align: middle; margin-left: 0.5rem\">PERSON</span>\n",
              "</mark>\n",
              " say \n",
              "<mark class=\"entity\" style=\"background: #e4e7d2; padding: 0.45em 0.6em; margin: 0 0.25em; line-height: 1; border-radius: 0.35em;\">\n",
              "    tens\n",
              "    <span style=\"font-size: 0.8em; font-weight: bold; line-height: 1; border-radius: 0.35em; text-transform: uppercase; vertical-align: middle; margin-left: 0.5rem\">CARDINAL</span>\n",
              "</mark>\n",
              " of gunmen were also killed in the clashes on \n",
              "<mark class=\"entity\" style=\"background: #bfe1d9; padding: 0.45em 0.6em; margin: 0 0.25em; line-height: 1; border-radius: 0.35em;\">\n",
              "    Friday\n",
              "    <span style=\"font-size: 0.8em; font-weight: bold; line-height: 1; border-radius: 0.35em; text-transform: uppercase; vertical-align: middle; margin-left: 0.5rem\">DATE</span>\n",
              "</mark>\n",
              ".The \n",
              "<mark class=\"entity\" style=\"background: #aa9cfc; padding: 0.45em 0.6em; margin: 0 0.25em; line-height: 1; border-radius: 0.35em;\">\n",
              "    police\n",
              "    <span style=\"font-size: 0.8em; font-weight: bold; line-height: 1; border-radius: 0.35em; text-transform: uppercase; vertical-align: middle; margin-left: 0.5rem\">PERSON</span>\n",
              "</mark>\n",
              " statement denies initial reports that \n",
              "<mark class=\"entity\" style=\"background: #e4e7d2; padding: 0.45em 0.6em; margin: 0 0.25em; line-height: 1; border-radius: 0.35em;\">\n",
              "    18\n",
              "    <span style=\"font-size: 0.8em; font-weight: bold; line-height: 1; border-radius: 0.35em; text-transform: uppercase; vertical-align: middle; margin-left: 0.5rem\">CARDINAL</span>\n",
              "</mark>\n",
              " officers were abducted during the attack.It says \n",
              "<mark class=\"entity\" style=\"background: #e4e7d2; padding: 0.45em 0.6em; margin: 0 0.25em; line-height: 1; border-radius: 0.35em;\">\n",
              "    only 16\n",
              "    <span style=\"font-size: 0.8em; font-weight: bold; line-height: 1; border-radius: 0.35em; text-transform: uppercase; vertical-align: middle; margin-left: 0.5rem\">CARDINAL</span>\n",
              "</mark>\n",
              " officers were involved in the incident and that the bodies of \n",
              "<mark class=\"entity\" style=\"background: #e4e7d2; padding: 0.45em 0.6em; margin: 0 0.25em; line-height: 1; border-radius: 0.35em;\">\n",
              "    four\n",
              "    <span style=\"font-size: 0.8em; font-weight: bold; line-height: 1; border-radius: 0.35em; text-transform: uppercase; vertical-align: middle; margin-left: 0.5rem\">CARDINAL</span>\n",
              "</mark>\n",
              " of them and their weapons had been recovered, \n",
              "<mark class=\"entity\" style=\"background: #e4e7d2; padding: 0.45em 0.6em; margin: 0 0.25em; line-height: 1; border-radius: 0.35em;\">\n",
              "    11\n",
              "    <span style=\"font-size: 0.8em; font-weight: bold; line-height: 1; border-radius: 0.35em; text-transform: uppercase; vertical-align: middle; margin-left: 0.5rem\">CARDINAL</span>\n",
              "</mark>\n",
              " survived while efforts are being intensified to rescue the officer still missing.It’s not clear whether the missing officer had been abducted by the armed men.Meanwhile, in other separate attacks on \n",
              "<mark class=\"entity\" style=\"background: #bfe1d9; padding: 0.45em 0.6em; margin: 0 0.25em; line-height: 1; border-radius: 0.35em;\">\n",
              "    Sunday\n",
              "    <span style=\"font-size: 0.8em; font-weight: bold; line-height: 1; border-radius: 0.35em; text-transform: uppercase; vertical-align: middle; margin-left: 0.5rem\">DATE</span>\n",
              "</mark>\n",
              " also in \n",
              "<mark class=\"entity\" style=\"background: #c887fb; padding: 0.45em 0.6em; margin: 0 0.25em; line-height: 1; border-radius: 0.35em;\">\n",
              "    Kaduna\n",
              "    <span style=\"font-size: 0.8em; font-weight: bold; line-height: 1; border-radius: 0.35em; text-transform: uppercase; vertical-align: middle; margin-left: 0.5rem\">NORP</span>\n",
              "</mark>\n",
              " state, the authorities confirmed \n",
              "<mark class=\"entity\" style=\"background: #e4e7d2; padding: 0.45em 0.6em; margin: 0 0.25em; line-height: 1; border-radius: 0.35em;\">\n",
              "    at least five\n",
              "    <span style=\"font-size: 0.8em; font-weight: bold; line-height: 1; border-radius: 0.35em; text-transform: uppercase; vertical-align: middle; margin-left: 0.5rem\">CARDINAL</span>\n",
              "</mark>\n",
              " people including an \n",
              "<mark class=\"entity\" style=\"background: #bfe1d9; padding: 0.45em 0.6em; margin: 0 0.25em; line-height: 1; border-radius: 0.35em;\">\n",
              "    80-year-old\n",
              "    <span style=\"font-size: 0.8em; font-weight: bold; line-height: 1; border-radius: 0.35em; text-transform: uppercase; vertical-align: middle; margin-left: 0.5rem\">DATE</span>\n",
              "</mark>\n",
              " woman and a local traditional ruler were kiIn \n",
              "<mark class=\"entity\" style=\"background: #bfe1d9; padding: 0.45em 0.6em; margin: 0 0.25em; line-height: 1; border-radius: 0.35em;\">\n",
              "    a previous\n",
              "    <span style=\"font-size: 0.8em; font-weight: bold; line-height: 1; border-radius: 0.35em; text-transform: uppercase; vertical-align: middle; margin-left: 0.5rem\">DATE</span>\n",
              "</mark>\n",
              " attack within \n",
              "<mark class=\"entity\" style=\"background: #bfe1d9; padding: 0.45em 0.6em; margin: 0 0.25em; line-height: 1; border-radius: 0.35em;\">\n",
              "    the week\n",
              "    <span style=\"font-size: 0.8em; font-weight: bold; line-height: 1; border-radius: 0.35em; text-transform: uppercase; vertical-align: middle; margin-left: 0.5rem\">DATE</span>\n",
              "</mark>\n",
              " \n",
              "<mark class=\"entity\" style=\"background: #ffeb80; padding: 0.45em 0.6em; margin: 0 0.25em; line-height: 1; border-radius: 0.35em;\">\n",
              "    at least 18 people\n",
              "    <span style=\"font-size: 0.8em; font-weight: bold; line-height: 1; border-radius: 0.35em; text-transform: uppercase; vertical-align: middle; margin-left: 0.5rem\">EVENT</span>\n",
              "</mark>\n",
              " including mothers and their babies were kidnapped in \n",
              "<mark class=\"entity\" style=\"background: #bfe1d9; padding: 0.45em 0.6em; margin: 0 0.25em; line-height: 1; border-radius: 0.35em;\">\n",
              "    a village\n",
              "    <span style=\"font-size: 0.8em; font-weight: bold; line-height: 1; border-radius: 0.35em; text-transform: uppercase; vertical-align: middle; margin-left: 0.5rem\">DATE</span>\n",
              "</mark>\n",
              " in \n",
              "<mark class=\"entity\" style=\"background: #feca74; padding: 0.45em 0.6em; margin: 0 0.25em; line-height: 1; border-radius: 0.35em;\">\n",
              "    Birnin\n",
              "    <span style=\"font-size: 0.8em; font-weight: bold; line-height: 1; border-radius: 0.35em; text-transform: uppercase; vertical-align: middle; margin-left: 0.5rem\">GPE</span>\n",
              "</mark>\n",
              "-Gwari area of the state. They’re yet to be released </div></span>"
            ],
            "text/plain": [
              "<IPython.core.display.HTML object>"
            ]
          },
          "metadata": {
            "tags": []
          }
        }
      ]
    },
    {
      "cell_type": "code",
      "metadata": {
        "id": "TrBJJLpRe5-J",
        "colab": {
          "base_uri": "https://localhost:8080/"
        },
        "outputId": "29782118-7f56-4d00-8fc9-e6aeeb642627"
      },
      "source": [
        "#evaluating the f-score \n",
        "def Eval(ner_model,test_data):\n",
        "  scorer = Scorer()\n",
        "  try:\n",
        "    for input_, annot in test_data:\n",
        "      doc_gold_text = ner_model.make_doc(input_)\n",
        "      gold = GoldParse(doc_gold_text, entities=annot['entities'])\n",
        "      pred_value = ner_model(input_)\n",
        "      scorer.score(pred_value, gold)\n",
        "  except Exception as e: print(e)\n",
        " \n",
        "  pprint(scorer.scores)\n",
        " \n",
        "Eval(model, Test_data)"
      ],
      "execution_count": null,
      "outputs": [
        {
          "output_type": "stream",
          "text": [
            "{'ents_f': 57.40181268882175,\n",
            " 'ents_p': 59.006211180124225,\n",
            " 'ents_per_type': {'CARDINAL': {'f': 71.69811320754717,\n",
            "                                'p': 82.6086956521739,\n",
            "                                'r': 63.33333333333333},\n",
            "                   'DATE': {'f': 53.333333333333336,\n",
            "                            'p': 47.05882352941176,\n",
            "                            'r': 61.53846153846154},\n",
            "                   'EVENT': {'f': 55.55555555555556,\n",
            "                             'p': 83.33333333333334,\n",
            "                             'r': 41.66666666666667},\n",
            "                   'FAC': {'f': 0.0, 'p': 0.0, 'r': 0.0},\n",
            "                   'GPE': {'f': 78.26086956521739,\n",
            "                           'p': 71.05263157894737,\n",
            "                           'r': 87.09677419354838},\n",
            "                   'LOC': {'f': 0.0, 'p': 0.0, 'r': 0.0},\n",
            "                   'NORP': {'f': 64.0, 'p': 50.0, 'r': 88.88888888888889},\n",
            "                   'ORDINAL': {'f': 50.0, 'p': 100.0, 'r': 33.33333333333333},\n",
            "                   'ORG': {'f': 40.0, 'p': 42.857142857142854, 'r': 37.5},\n",
            "                   'PERSON': {'f': 41.66666666666667,\n",
            "                              'p': 52.63157894736842,\n",
            "                              'r': 34.48275862068966},\n",
            "                   'TIME': {'f': 0.0, 'p': 0.0, 'r': 0.0},\n",
            "                   'WORK_OF_ART': {'f': 0.0, 'p': 0.0, 'r': 0.0}},\n",
            " 'ents_r': 55.88235294117647,\n",
            " 'las': 0.0,\n",
            " 'las_per_type': {'': {'f': 0.0, 'p': 0.0, 'r': 0.0},\n",
            "                  'advmod': {'f': 0.0, 'p': 0.0, 'r': 0.0},\n",
            "                  'amod': {'f': 0.0, 'p': 0.0, 'r': 0.0},\n",
            "                  'aux': {'f': 0.0, 'p': 0.0, 'r': 0.0},\n",
            "                  'auxpass': {'f': 0.0, 'p': 0.0, 'r': 0.0},\n",
            "                  'compound': {'f': 0.0, 'p': 0.0, 'r': 0.0},\n",
            "                  'dep': {'f': 0.0, 'p': 0.0, 'r': 0.0},\n",
            "                  'det': {'f': 0.0, 'p': 0.0, 'r': 0.0},\n",
            "                  'mark': {'f': 0.0, 'p': 0.0, 'r': 0.0},\n",
            "                  'nsubj': {'f': 0.0, 'p': 0.0, 'r': 0.0},\n",
            "                  'nsubjpass': {'f': 0.0, 'p': 0.0, 'r': 0.0},\n",
            "                  'nummod': {'f': 0.0, 'p': 0.0, 'r': 0.0},\n",
            "                  'poss': {'f': 0.0, 'p': 0.0, 'r': 0.0},\n",
            "                  'root': {'f': 0.0, 'p': 0.0, 'r': 0.0}},\n",
            " 'tags_acc': 0.0,\n",
            " 'textcat_score': 0.0,\n",
            " 'textcats_per_cat': {},\n",
            " 'token_acc': 100.0,\n",
            " 'uas': 0.0}\n"
          ],
          "name": "stdout"
        }
      ]
    },
    {
      "cell_type": "code",
      "metadata": {
        "id": "ZQva9B2iiZce"
      },
      "source": [
        "sentence2= \"A union representing lecturers in Nigeria has announced the suspension of a nine month strike that has crippled learning at public universities.Prof Biodun Ogunyemi, the national president of the Academic Staff Union of Universities, told the BBC that the union decided to suspend the strike\\\n",
        "after concrete agreements were reached with the federal government on Tuesday.\\\n",
        "Prof Ogunyemi said lecturers will return to the universities from Thursday but warned that the union would resume the strike action if the government failed to fulfil a return to work deal.\\\n",
        "The union has been pushing the government to implement a 2009 agreement that promised equipment for universities and an increase in lecturers pay.\\\n",
        "The union said students will be invited back to universities after measures are put in place to prevent the spread of Covid-19.\"\n"
      ],
      "execution_count": 34,
      "outputs": []
    },
    {
      "cell_type": "code",
      "metadata": {
        "id": "cHUj4Rca27Dp",
        "colab": {
          "base_uri": "https://localhost:8080/",
          "height": 923
        },
        "outputId": "ca7b3337-be5f-4802-f94f-bfd0f532ba6f"
      },
      "source": [
        "#testing the model on sentence 2\n",
        "result2 = model(sentence2)\n",
        "for ent in result2.ents: \n",
        "    print(ent.text, ent.start_char, ent.end_char, ent.label_)\n",
        "spacy.displacy.render(result1, style='ent',jupyter=True)"
      ],
      "execution_count": 35,
      "outputs": [
        {
          "output_type": "stream",
          "text": [
            "union 2 7 ORG\n",
            "lecturers 21 30 PERSON\n",
            "Nigeria 34 41 GPE\n",
            "nine month 76 86 DATE\n",
            "strike 87 93 EVENT\n",
            "universities 131 143 ORG\n",
            "Biodun Ogunyemi 149 164 PERSON\n",
            "president 179 188 PERSON\n",
            "the Academic Staff Union of Universities 192 232 ORG\n",
            "BBC 243 246 ORG\n",
            "union 256 261 ORG\n",
            "Tuesday 361 368 DATE\n",
            "Prof Ogunyemi 369 382 PERSON\n",
            "lecturers 388 397 PERSON\n",
            "universities 417 429 ORG\n",
            "Thursday 435 443 DATE\n",
            "union 464 469 ORG\n",
            "strike 487 493 EVENT\n",
            "government 508 518 PERSON\n",
            "union 562 567 ORG\n",
            "government 589 599 PERSON\n",
            "2009 615 619 DATE\n",
            "universities 658 670 ORG\n",
            "lecturers pay 690 703 PERSON\n",
            "union 708 713 ORG\n",
            "universities 752 764 ORG\n",
            "Covid-19 822 830 EVENT\n"
          ],
          "name": "stdout"
        },
        {
          "output_type": "display_data",
          "data": {
            "text/html": [
              "<span class=\"tex2jax_ignore\"><div class=\"entities\" style=\"line-height: 2.5; direction: ltr\"> The \n",
              "<mark class=\"entity\" style=\"background: #c887fb; padding: 0.45em 0.6em; margin: 0 0.25em; line-height: 1; border-radius: 0.35em;\">\n",
              "    Nigerian\n",
              "    <span style=\"font-size: 0.8em; font-weight: bold; line-height: 1; border-radius: 0.35em; text-transform: uppercase; vertical-align: middle; margin-left: 0.5rem\">NORP</span>\n",
              "</mark>\n",
              " \n",
              "<mark class=\"entity\" style=\"background: #aa9cfc; padding: 0.45em 0.6em; margin: 0 0.25em; line-height: 1; border-radius: 0.35em;\">\n",
              "    police\n",
              "    <span style=\"font-size: 0.8em; font-weight: bold; line-height: 1; border-radius: 0.35em; text-transform: uppercase; vertical-align: middle; margin-left: 0.5rem\">PERSON</span>\n",
              "</mark>\n",
              " say \n",
              "<mark class=\"entity\" style=\"background: #e4e7d2; padding: 0.45em 0.6em; margin: 0 0.25em; line-height: 1; border-radius: 0.35em;\">\n",
              "    four\n",
              "    <span style=\"font-size: 0.8em; font-weight: bold; line-height: 1; border-radius: 0.35em; text-transform: uppercase; vertical-align: middle; margin-left: 0.5rem\">CARDINAL</span>\n",
              "</mark>\n",
              " officers were killed and \n",
              "<mark class=\"entity\" style=\"background: #e4e7d2; padding: 0.45em 0.6em; margin: 0 0.25em; line-height: 1; border-radius: 0.35em;\">\n",
              "    one\n",
              "    <span style=\"font-size: 0.8em; font-weight: bold; line-height: 1; border-radius: 0.35em; text-transform: uppercase; vertical-align: middle; margin-left: 0.5rem\">CARDINAL</span>\n",
              "</mark>\n",
              " is still missing after they clashed with an armed criminal gang in the Birnin-Gwari area of \n",
              "<mark class=\"entity\" style=\"background: #c887fb; padding: 0.45em 0.6em; margin: 0 0.25em; line-height: 1; border-radius: 0.35em;\">\n",
              "    Kaduna\n",
              "    <span style=\"font-size: 0.8em; font-weight: bold; line-height: 1; border-radius: 0.35em; text-transform: uppercase; vertical-align: middle; margin-left: 0.5rem\">NORP</span>\n",
              "</mark>\n",
              " state.Police Spokesperson\\Frank \n",
              "<mark class=\"entity\" style=\"background: #c887fb; padding: 0.45em 0.6em; margin: 0 0.25em; line-height: 1; border-radius: 0.35em;\">\n",
              "    Mba\n",
              "    <span style=\"font-size: 0.8em; font-weight: bold; line-height: 1; border-radius: 0.35em; text-transform: uppercase; vertical-align: middle; margin-left: 0.5rem\">NORP</span>\n",
              "</mark>\n",
              " in a statement on \n",
              "<mark class=\"entity\" style=\"background: #bfe1d9; padding: 0.45em 0.6em; margin: 0 0.25em; line-height: 1; border-radius: 0.35em;\">\n",
              "    Sunday\n",
              "    <span style=\"font-size: 0.8em; font-weight: bold; line-height: 1; border-radius: 0.35em; text-transform: uppercase; vertical-align: middle; margin-left: 0.5rem\">DATE</span>\n",
              "</mark>\n",
              " said the officers were ambushed by \n",
              "<mark class=\"entity\" style=\"background: #e4e7d2; padding: 0.45em 0.6em; margin: 0 0.25em; line-height: 1; border-radius: 0.35em;\">\n",
              "    about 100\n",
              "    <span style=\"font-size: 0.8em; font-weight: bold; line-height: 1; border-radius: 0.35em; text-transform: uppercase; vertical-align: middle; margin-left: 0.5rem\">CARDINAL</span>\n",
              "</mark>\n",
              " banditsas they returned from an operation in neighbouring \n",
              "<mark class=\"entity\" style=\"background: #feca74; padding: 0.45em 0.6em; margin: 0 0.25em; line-height: 1; border-radius: 0.35em;\">\n",
              "    Niger\n",
              "    <span style=\"font-size: 0.8em; font-weight: bold; line-height: 1; border-radius: 0.35em; text-transform: uppercase; vertical-align: middle; margin-left: 0.5rem\">GPE</span>\n",
              "</mark>\n",
              " state.The \n",
              "<mark class=\"entity\" style=\"background: #aa9cfc; padding: 0.45em 0.6em; margin: 0 0.25em; line-height: 1; border-radius: 0.35em;\">\n",
              "    police\n",
              "    <span style=\"font-size: 0.8em; font-weight: bold; line-height: 1; border-radius: 0.35em; text-transform: uppercase; vertical-align: middle; margin-left: 0.5rem\">PERSON</span>\n",
              "</mark>\n",
              " say \n",
              "<mark class=\"entity\" style=\"background: #e4e7d2; padding: 0.45em 0.6em; margin: 0 0.25em; line-height: 1; border-radius: 0.35em;\">\n",
              "    tens\n",
              "    <span style=\"font-size: 0.8em; font-weight: bold; line-height: 1; border-radius: 0.35em; text-transform: uppercase; vertical-align: middle; margin-left: 0.5rem\">CARDINAL</span>\n",
              "</mark>\n",
              " of gunmen were also killed in the clashes on \n",
              "<mark class=\"entity\" style=\"background: #bfe1d9; padding: 0.45em 0.6em; margin: 0 0.25em; line-height: 1; border-radius: 0.35em;\">\n",
              "    Friday\n",
              "    <span style=\"font-size: 0.8em; font-weight: bold; line-height: 1; border-radius: 0.35em; text-transform: uppercase; vertical-align: middle; margin-left: 0.5rem\">DATE</span>\n",
              "</mark>\n",
              ".The \n",
              "<mark class=\"entity\" style=\"background: #aa9cfc; padding: 0.45em 0.6em; margin: 0 0.25em; line-height: 1; border-radius: 0.35em;\">\n",
              "    police\n",
              "    <span style=\"font-size: 0.8em; font-weight: bold; line-height: 1; border-radius: 0.35em; text-transform: uppercase; vertical-align: middle; margin-left: 0.5rem\">PERSON</span>\n",
              "</mark>\n",
              " statement denies initial reports that \n",
              "<mark class=\"entity\" style=\"background: #e4e7d2; padding: 0.45em 0.6em; margin: 0 0.25em; line-height: 1; border-radius: 0.35em;\">\n",
              "    18\n",
              "    <span style=\"font-size: 0.8em; font-weight: bold; line-height: 1; border-radius: 0.35em; text-transform: uppercase; vertical-align: middle; margin-left: 0.5rem\">CARDINAL</span>\n",
              "</mark>\n",
              " officers were abducted during the attack.It says \n",
              "<mark class=\"entity\" style=\"background: #e4e7d2; padding: 0.45em 0.6em; margin: 0 0.25em; line-height: 1; border-radius: 0.35em;\">\n",
              "    only 16\n",
              "    <span style=\"font-size: 0.8em; font-weight: bold; line-height: 1; border-radius: 0.35em; text-transform: uppercase; vertical-align: middle; margin-left: 0.5rem\">CARDINAL</span>\n",
              "</mark>\n",
              " officers were involved in the incident and that the bodies of \n",
              "<mark class=\"entity\" style=\"background: #e4e7d2; padding: 0.45em 0.6em; margin: 0 0.25em; line-height: 1; border-radius: 0.35em;\">\n",
              "    four\n",
              "    <span style=\"font-size: 0.8em; font-weight: bold; line-height: 1; border-radius: 0.35em; text-transform: uppercase; vertical-align: middle; margin-left: 0.5rem\">CARDINAL</span>\n",
              "</mark>\n",
              " of them and their weapons had been recovered, \n",
              "<mark class=\"entity\" style=\"background: #e4e7d2; padding: 0.45em 0.6em; margin: 0 0.25em; line-height: 1; border-radius: 0.35em;\">\n",
              "    11\n",
              "    <span style=\"font-size: 0.8em; font-weight: bold; line-height: 1; border-radius: 0.35em; text-transform: uppercase; vertical-align: middle; margin-left: 0.5rem\">CARDINAL</span>\n",
              "</mark>\n",
              " survived while efforts are being intensified to rescue the officer still missing.It’s not clear whether the missing officer had been abducted by the armed men.Meanwhile, in other separate attacks on \n",
              "<mark class=\"entity\" style=\"background: #bfe1d9; padding: 0.45em 0.6em; margin: 0 0.25em; line-height: 1; border-radius: 0.35em;\">\n",
              "    Sunday\n",
              "    <span style=\"font-size: 0.8em; font-weight: bold; line-height: 1; border-radius: 0.35em; text-transform: uppercase; vertical-align: middle; margin-left: 0.5rem\">DATE</span>\n",
              "</mark>\n",
              " also in \n",
              "<mark class=\"entity\" style=\"background: #c887fb; padding: 0.45em 0.6em; margin: 0 0.25em; line-height: 1; border-radius: 0.35em;\">\n",
              "    Kaduna\n",
              "    <span style=\"font-size: 0.8em; font-weight: bold; line-height: 1; border-radius: 0.35em; text-transform: uppercase; vertical-align: middle; margin-left: 0.5rem\">NORP</span>\n",
              "</mark>\n",
              " state, the authorities confirmed \n",
              "<mark class=\"entity\" style=\"background: #e4e7d2; padding: 0.45em 0.6em; margin: 0 0.25em; line-height: 1; border-radius: 0.35em;\">\n",
              "    at least five\n",
              "    <span style=\"font-size: 0.8em; font-weight: bold; line-height: 1; border-radius: 0.35em; text-transform: uppercase; vertical-align: middle; margin-left: 0.5rem\">CARDINAL</span>\n",
              "</mark>\n",
              " people including an \n",
              "<mark class=\"entity\" style=\"background: #bfe1d9; padding: 0.45em 0.6em; margin: 0 0.25em; line-height: 1; border-radius: 0.35em;\">\n",
              "    80-year-old\n",
              "    <span style=\"font-size: 0.8em; font-weight: bold; line-height: 1; border-radius: 0.35em; text-transform: uppercase; vertical-align: middle; margin-left: 0.5rem\">DATE</span>\n",
              "</mark>\n",
              " woman and a local traditional ruler were kiIn \n",
              "<mark class=\"entity\" style=\"background: #bfe1d9; padding: 0.45em 0.6em; margin: 0 0.25em; line-height: 1; border-radius: 0.35em;\">\n",
              "    a previous\n",
              "    <span style=\"font-size: 0.8em; font-weight: bold; line-height: 1; border-radius: 0.35em; text-transform: uppercase; vertical-align: middle; margin-left: 0.5rem\">DATE</span>\n",
              "</mark>\n",
              " attack within \n",
              "<mark class=\"entity\" style=\"background: #bfe1d9; padding: 0.45em 0.6em; margin: 0 0.25em; line-height: 1; border-radius: 0.35em;\">\n",
              "    the week\n",
              "    <span style=\"font-size: 0.8em; font-weight: bold; line-height: 1; border-radius: 0.35em; text-transform: uppercase; vertical-align: middle; margin-left: 0.5rem\">DATE</span>\n",
              "</mark>\n",
              " \n",
              "<mark class=\"entity\" style=\"background: #ffeb80; padding: 0.45em 0.6em; margin: 0 0.25em; line-height: 1; border-radius: 0.35em;\">\n",
              "    at least 18 people\n",
              "    <span style=\"font-size: 0.8em; font-weight: bold; line-height: 1; border-radius: 0.35em; text-transform: uppercase; vertical-align: middle; margin-left: 0.5rem\">EVENT</span>\n",
              "</mark>\n",
              " including mothers and their babies were kidnapped in \n",
              "<mark class=\"entity\" style=\"background: #bfe1d9; padding: 0.45em 0.6em; margin: 0 0.25em; line-height: 1; border-radius: 0.35em;\">\n",
              "    a village\n",
              "    <span style=\"font-size: 0.8em; font-weight: bold; line-height: 1; border-radius: 0.35em; text-transform: uppercase; vertical-align: middle; margin-left: 0.5rem\">DATE</span>\n",
              "</mark>\n",
              " in \n",
              "<mark class=\"entity\" style=\"background: #feca74; padding: 0.45em 0.6em; margin: 0 0.25em; line-height: 1; border-radius: 0.35em;\">\n",
              "    Birnin\n",
              "    <span style=\"font-size: 0.8em; font-weight: bold; line-height: 1; border-radius: 0.35em; text-transform: uppercase; vertical-align: middle; margin-left: 0.5rem\">GPE</span>\n",
              "</mark>\n",
              "-Gwari area of the state. They’re yet to be released </div></span>"
            ],
            "text/plain": [
              "<IPython.core.display.HTML object>"
            ]
          },
          "metadata": {
            "tags": []
          }
        }
      ]
    },
    {
      "cell_type": "code",
      "metadata": {
        "id": "E0qasOYf264x"
      },
      "source": [
        ""
      ],
      "execution_count": null,
      "outputs": []
    },
    {
      "cell_type": "code",
      "metadata": {
        "id": "vcGqm2cY26o6"
      },
      "source": [
        ""
      ],
      "execution_count": null,
      "outputs": []
    },
    {
      "cell_type": "code",
      "metadata": {
        "id": "SPG_j9QF26M2"
      },
      "source": [
        ""
      ],
      "execution_count": null,
      "outputs": []
    },
    {
      "cell_type": "code",
      "metadata": {
        "id": "j3RWhZ6E-ITx"
      },
      "source": [
        ""
      ],
      "execution_count": null,
      "outputs": []
    },
    {
      "cell_type": "code",
      "metadata": {
        "id": "YQyJ6-gHiYOO"
      },
      "source": [
        ""
      ],
      "execution_count": null,
      "outputs": []
    }
  ]
}